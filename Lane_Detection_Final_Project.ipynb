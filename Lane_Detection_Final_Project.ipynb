{
 "cells": [
  {
   "cell_type": "markdown",
   "metadata": {
    "id": "SgipWVe1BpmV"
   },
   "source": [
    "# **Lane Detection**\n",
    "\n",
    "\n",
    "\n",
    "\n",
    "\n"
   ]
  },
  {
   "cell_type": "markdown",
   "metadata": {
    "id": "KEVhhd55D16K"
   },
   "source": [
    "TEAM MEMBERS:\n",
    "1.  Ujwal Kothapally\n",
    "2.  Venkata Krishna Sreekar Padakandla\n",
    "\n"
   ]
  },
  {
   "cell_type": "markdown",
   "metadata": {
    "id": "SBUuTnnzVQJ2"
   },
   "source": [
    "# Install Roboflow Package"
   ]
  },
  {
   "cell_type": "code",
   "execution_count": 1,
   "metadata": {
    "colab": {
     "base_uri": "https://localhost:8080/",
     "height": 1000
    },
    "id": "uIXoY-6uHJbd",
    "outputId": "818cbd2e-b3e2-4aab-a189-77e2d36f5fe8"
   },
   "outputs": [
    {
     "name": "stdout",
     "output_type": "stream",
     "text": [
      "Requirement already satisfied: roboflow in c:\\users\\91767\\lokesh\\lib\\site-packages (1.1.9)\n",
      "Requirement already satisfied: certifi==2023.7.22 in c:\\users\\91767\\lokesh\\lib\\site-packages (from roboflow) (2023.7.22)\n",
      "Requirement already satisfied: chardet==4.0.0 in c:\\users\\91767\\lokesh\\lib\\site-packages (from roboflow) (4.0.0)\n",
      "Requirement already satisfied: cycler==0.10.0 in c:\\users\\91767\\lokesh\\lib\\site-packages (from roboflow) (0.10.0)\n",
      "Requirement already satisfied: idna==2.10 in c:\\users\\91767\\lokesh\\lib\\site-packages (from roboflow) (2.10)\n",
      "Requirement already satisfied: kiwisolver>=1.3.1 in c:\\users\\91767\\lokesh\\lib\\site-packages (from roboflow) (1.4.4)\n",
      "Requirement already satisfied: matplotlib in c:\\users\\91767\\lokesh\\lib\\site-packages (from roboflow) (3.7.1)\n",
      "Requirement already satisfied: numpy>=1.18.5 in c:\\users\\91767\\lokesh\\lib\\site-packages (from roboflow) (1.24.3)\n",
      "Requirement already satisfied: opencv-python-headless==4.8.0.74 in c:\\users\\91767\\lokesh\\lib\\site-packages (from roboflow) (4.8.0.74)\n",
      "Requirement already satisfied: Pillow>=7.1.2 in c:\\users\\91767\\lokesh\\lib\\site-packages (from roboflow) (9.4.0)\n",
      "Requirement already satisfied: pyparsing==2.4.7 in c:\\users\\91767\\lokesh\\lib\\site-packages (from roboflow) (2.4.7)\n",
      "Requirement already satisfied: python-dateutil in c:\\users\\91767\\lokesh\\lib\\site-packages (from roboflow) (2.8.2)\n",
      "Requirement already satisfied: python-dotenv in c:\\users\\91767\\lokesh\\lib\\site-packages (from roboflow) (1.0.0)\n",
      "Requirement already satisfied: requests in c:\\users\\91767\\lokesh\\lib\\site-packages (from roboflow) (2.31.0)\n",
      "Requirement already satisfied: six in c:\\users\\91767\\lokesh\\lib\\site-packages (from roboflow) (1.16.0)\n",
      "Requirement already satisfied: supervision in c:\\users\\91767\\lokesh\\lib\\site-packages (from roboflow) (0.16.0)\n",
      "Requirement already satisfied: urllib3>=1.26.6 in c:\\users\\91767\\lokesh\\lib\\site-packages (from roboflow) (1.26.16)\n",
      "Requirement already satisfied: tqdm>=4.41.0 in c:\\users\\91767\\lokesh\\lib\\site-packages (from roboflow) (4.65.0)\n",
      "Requirement already satisfied: PyYAML>=5.3.1 in c:\\users\\91767\\lokesh\\lib\\site-packages (from roboflow) (6.0)\n",
      "Requirement already satisfied: requests-toolbelt in c:\\users\\91767\\lokesh\\lib\\site-packages (from roboflow) (1.0.0)\n",
      "Requirement already satisfied: python-magic in c:\\users\\91767\\lokesh\\lib\\site-packages (from roboflow) (0.4.27)\n",
      "Requirement already satisfied: colorama in c:\\users\\91767\\lokesh\\lib\\site-packages (from tqdm>=4.41.0->roboflow) (0.4.6)\n",
      "Requirement already satisfied: contourpy>=1.0.1 in c:\\users\\91767\\lokesh\\lib\\site-packages (from matplotlib->roboflow) (1.0.5)\n",
      "Requirement already satisfied: fonttools>=4.22.0 in c:\\users\\91767\\lokesh\\lib\\site-packages (from matplotlib->roboflow) (4.25.0)\n",
      "Requirement already satisfied: packaging>=20.0 in c:\\users\\91767\\lokesh\\lib\\site-packages (from matplotlib->roboflow) (23.0)\n",
      "Requirement already satisfied: charset-normalizer<4,>=2 in c:\\users\\91767\\lokesh\\lib\\site-packages (from requests->roboflow) (2.0.4)\n",
      "Requirement already satisfied: scipy<2.0.0,>=1.9.0 in c:\\users\\91767\\lokesh\\lib\\site-packages (from supervision->roboflow) (1.10.1)\n"
     ]
    }
   ],
   "source": [
    "!pip install roboflow"
   ]
  },
  {
   "cell_type": "markdown",
   "metadata": {
    "id": "scw3Tg_T8yx9"
   },
   "source": [
    "# Import Dependencies"
   ]
  },
  {
   "cell_type": "code",
   "execution_count": 2,
   "metadata": {
    "id": "X4vQM4rZ8oYo"
   },
   "outputs": [],
   "source": [
    "from IPython.display import Image, clear_output"
   ]
  },
  {
   "cell_type": "markdown",
   "metadata": {
    "id": "6xitiONT9BfP"
   },
   "source": [
    "# Install PyTorch and torchvision"
   ]
  },
  {
   "cell_type": "code",
   "execution_count": 3,
   "metadata": {
    "colab": {
     "base_uri": "https://localhost:8080/"
    },
    "id": "X53je83i88wv",
    "outputId": "b01f5fdc-7bce-4b47-85ae-686186a00898"
   },
   "outputs": [
    {
     "name": "stdout",
     "output_type": "stream",
     "text": [
      "Requirement already satisfied: torch in c:\\users\\91767\\lokesh\\lib\\site-packages (2.1.1)\n",
      "Requirement already satisfied: filelock in c:\\users\\91767\\lokesh\\lib\\site-packages (from torch) (3.9.0)\n",
      "Requirement already satisfied: typing-extensions in c:\\users\\91767\\lokesh\\lib\\site-packages (from torch) (4.8.0)\n",
      "Requirement already satisfied: sympy in c:\\users\\91767\\lokesh\\lib\\site-packages (from torch) (1.11.1)\n",
      "Requirement already satisfied: networkx in c:\\users\\91767\\lokesh\\lib\\site-packages (from torch) (3.1)\n",
      "Requirement already satisfied: jinja2 in c:\\users\\91767\\lokesh\\lib\\site-packages (from torch) (3.1.2)\n",
      "Requirement already satisfied: fsspec in c:\\users\\91767\\lokesh\\lib\\site-packages (from torch) (2023.10.0)\n",
      "Requirement already satisfied: MarkupSafe>=2.0 in c:\\users\\91767\\lokesh\\lib\\site-packages (from jinja2->torch) (2.1.1)\n",
      "Requirement already satisfied: mpmath>=0.19 in c:\\users\\91767\\lokesh\\lib\\site-packages (from sympy->torch) (1.3.0)\n",
      "Requirement already satisfied: torchvision in c:\\users\\91767\\lokesh\\lib\\site-packages (0.16.1)\n",
      "Requirement already satisfied: numpy in c:\\users\\91767\\lokesh\\lib\\site-packages (from torchvision) (1.24.3)\n",
      "Requirement already satisfied: requests in c:\\users\\91767\\lokesh\\lib\\site-packages (from torchvision) (2.31.0)\n",
      "Requirement already satisfied: torch==2.1.1 in c:\\users\\91767\\lokesh\\lib\\site-packages (from torchvision) (2.1.1)\n",
      "Requirement already satisfied: pillow!=8.3.*,>=5.3.0 in c:\\users\\91767\\lokesh\\lib\\site-packages (from torchvision) (9.4.0)\n",
      "Requirement already satisfied: filelock in c:\\users\\91767\\lokesh\\lib\\site-packages (from torch==2.1.1->torchvision) (3.9.0)\n",
      "Requirement already satisfied: typing-extensions in c:\\users\\91767\\lokesh\\lib\\site-packages (from torch==2.1.1->torchvision) (4.8.0)\n",
      "Requirement already satisfied: sympy in c:\\users\\91767\\lokesh\\lib\\site-packages (from torch==2.1.1->torchvision) (1.11.1)\n",
      "Requirement already satisfied: networkx in c:\\users\\91767\\lokesh\\lib\\site-packages (from torch==2.1.1->torchvision) (3.1)\n",
      "Requirement already satisfied: jinja2 in c:\\users\\91767\\lokesh\\lib\\site-packages (from torch==2.1.1->torchvision) (3.1.2)\n",
      "Requirement already satisfied: fsspec in c:\\users\\91767\\lokesh\\lib\\site-packages (from torch==2.1.1->torchvision) (2023.10.0)\n",
      "Requirement already satisfied: charset-normalizer<4,>=2 in c:\\users\\91767\\lokesh\\lib\\site-packages (from requests->torchvision) (2.0.4)\n",
      "Requirement already satisfied: idna<4,>=2.5 in c:\\users\\91767\\lokesh\\lib\\site-packages (from requests->torchvision) (2.10)\n",
      "Requirement already satisfied: urllib3<3,>=1.21.1 in c:\\users\\91767\\lokesh\\lib\\site-packages (from requests->torchvision) (1.26.16)\n",
      "Requirement already satisfied: certifi>=2017.4.17 in c:\\users\\91767\\lokesh\\lib\\site-packages (from requests->torchvision) (2023.7.22)\n",
      "Requirement already satisfied: MarkupSafe>=2.0 in c:\\users\\91767\\lokesh\\lib\\site-packages (from jinja2->torch==2.1.1->torchvision) (2.1.1)\n",
      "Requirement already satisfied: mpmath>=0.19 in c:\\users\\91767\\lokesh\\lib\\site-packages (from sympy->torch==2.1.1->torchvision) (1.3.0)\n"
     ]
    }
   ],
   "source": [
    "!pip install torch\n",
    "!pip install torchvision"
   ]
  },
  {
   "cell_type": "code",
   "execution_count": 4,
   "metadata": {
    "colab": {
     "base_uri": "https://localhost:8080/"
    },
    "id": "JuxiK7QICd2p",
    "outputId": "f7e969d9-3912-4b41-bdf4-b0791cf2f8b8"
   },
   "outputs": [],
   "source": [
    "#!pip install --upgrade pip"
   ]
  },
  {
   "cell_type": "markdown",
   "metadata": {
    "id": "SnjnXx309TDl"
   },
   "source": [
    "# Import PyTorch and Other Libraries"
   ]
  },
  {
   "cell_type": "code",
   "execution_count": 2,
   "metadata": {
    "id": "Mh6IeOoO9TNQ"
   },
   "outputs": [],
   "source": [
    "from roboflow import Roboflow\n",
    "import torch\n",
    "from torch.utils.data import Dataset, DataLoader\n",
    "from torchvision import transforms\n",
    "from torchvision.datasets import ImageFolder\n",
    "from sklearn.model_selection import train_test_split\n",
    "import matplotlib.pyplot as plt\n",
    "import torch.nn as nn\n",
    "import torchvision.models as models\n",
    "from torchvision import transforms\n",
    "import torch.optim as optim"
   ]
  },
  {
   "cell_type": "markdown",
   "metadata": {
    "id": "19NoDSvQ9uak"
   },
   "source": [
    "# Downloads a dataset from Roboflow using the YOLOv5 model format, specifying the API key, project name and version, and saves it"
   ]
  },
  {
   "cell_type": "code",
   "execution_count": 3,
   "metadata": {
    "colab": {
     "base_uri": "https://localhost:8080/"
    },
    "id": "kgyfTYoHHUvf",
    "outputId": "7b590666-e2db-41e0-a640-4425e4d38586"
   },
   "outputs": [
    {
     "name": "stdout",
     "output_type": "stream",
     "text": [
      "loading Roboflow workspace...\n",
      "loading Roboflow project...\n"
     ]
    },
    {
     "name": "stderr",
     "output_type": "stream",
     "text": [
      "Downloading Dataset Version Zip in /Downloads to yolov5pytorch:: 100%|██████████| 1885/1885 [00:00<00:00, 10686.36it/s]"
     ]
    },
    {
     "name": "stdout",
     "output_type": "stream",
     "text": [
      "\n"
     ]
    },
    {
     "name": "stderr",
     "output_type": "stream",
     "text": [
      "\n",
      "Extracting Dataset Version Zip to /Downloads in yolov5pytorch:: 100%|████████████████| 58/58 [00:00<00:00, 1724.90it/s]\n"
     ]
    }
   ],
   "source": [
    "rf = Roboflow(api_key=\"aJ3Qo0kyqheDC6TpzDW0\", model_format=\"yolov5\")\n",
    "dataset = rf.workspace().project(\"lane-detection-xyuzw\").version(1).download(location=\"/Downloads\")"
   ]
  },
  {
   "cell_type": "markdown",
   "metadata": {
    "id": "qVsVYsSh-LQh"
   },
   "source": [
    "# Custom PyTorch dataset class (CustomDataset) that wraps around the ImageFolder class, allowing for **customization of the data loading process, sets a seed for reproducibility, defines image transformations"
   ]
  },
  {
   "cell_type": "code",
   "execution_count": 4,
   "metadata": {
    "id": "sEaNsBssHhcC"
   },
   "outputs": [],
   "source": [
    "class CustomDataset(Dataset):\n",
    "    def __init__(self, root_dir, transform=None):\n",
    "        self.dataset = ImageFolder(root_dir, transform=transform)\n",
    "\n",
    "    def __len__(self):\n",
    "        return len(self.dataset)\n",
    "\n",
    "    def __getitem__(self, idx):\n",
    "        return self.dataset[idx]\n",
    "\n",
    "# Set seed for reproducibility\n",
    "torch.manual_seed(42)\n",
    "\n",
    "# Define transforms\n",
    "transform = transforms.Compose([\n",
    "    transforms.Resize((224, 224)),\n",
    "    transforms.ToTensor(),\n",
    "])\n",
    "\n",
    "# Load dataset\n",
    "dataset = CustomDataset(root_dir=\"/Downloads\", transform=transform)"
   ]
  },
  {
   "cell_type": "markdown",
   "metadata": {
    "id": "UVfme7bu-oP4"
   },
   "source": [
    "# Custom PyTorch neural network model (LaneDetectionModel) based on the DeepLabV3 architecture with a ResNet-101 backbone, loads pre-trained weights, and modifies the output layer to suit the task of lane detection by changing the number of output classes."
   ]
  },
  {
   "cell_type": "code",
   "execution_count": 5,
   "metadata": {
    "colab": {
     "base_uri": "https://localhost:8080/"
    },
    "id": "0OxhpnxMHhhi",
    "outputId": "b29761eb-b425-4485-cd86-252b5e11c9a4"
   },
   "outputs": [
    {
     "name": "stderr",
     "output_type": "stream",
     "text": [
      "The parameter 'pretrained' is deprecated since 0.13 and may be removed in the future, please use 'weights' instead.\n",
      "Arguments other than a weight enum or `None` for 'weights' are deprecated since 0.13 and may be removed in the future. The current behavior is equivalent to passing `weights=DeepLabV3_ResNet101_Weights.COCO_WITH_VOC_LABELS_V1`. You can also use `weights=DeepLabV3_ResNet101_Weights.DEFAULT` to get the most up-to-date weights.\n"
     ]
    },
    {
     "name": "stdout",
     "output_type": "stream",
     "text": [
      "LaneDetectionModel(\n",
      "  (deeplabv3): DeepLabV3(\n",
      "    (backbone): IntermediateLayerGetter(\n",
      "      (conv1): Conv2d(3, 64, kernel_size=(7, 7), stride=(2, 2), padding=(3, 3), bias=False)\n",
      "      (bn1): BatchNorm2d(64, eps=1e-05, momentum=0.1, affine=True, track_running_stats=True)\n",
      "      (relu): ReLU(inplace=True)\n",
      "      (maxpool): MaxPool2d(kernel_size=3, stride=2, padding=1, dilation=1, ceil_mode=False)\n",
      "      (layer1): Sequential(\n",
      "        (0): Bottleneck(\n",
      "          (conv1): Conv2d(64, 64, kernel_size=(1, 1), stride=(1, 1), bias=False)\n",
      "          (bn1): BatchNorm2d(64, eps=1e-05, momentum=0.1, affine=True, track_running_stats=True)\n",
      "          (conv2): Conv2d(64, 64, kernel_size=(3, 3), stride=(1, 1), padding=(1, 1), bias=False)\n",
      "          (bn2): BatchNorm2d(64, eps=1e-05, momentum=0.1, affine=True, track_running_stats=True)\n",
      "          (conv3): Conv2d(64, 256, kernel_size=(1, 1), stride=(1, 1), bias=False)\n",
      "          (bn3): BatchNorm2d(256, eps=1e-05, momentum=0.1, affine=True, track_running_stats=True)\n",
      "          (relu): ReLU(inplace=True)\n",
      "          (downsample): Sequential(\n",
      "            (0): Conv2d(64, 256, kernel_size=(1, 1), stride=(1, 1), bias=False)\n",
      "            (1): BatchNorm2d(256, eps=1e-05, momentum=0.1, affine=True, track_running_stats=True)\n",
      "          )\n",
      "        )\n",
      "        (1): Bottleneck(\n",
      "          (conv1): Conv2d(256, 64, kernel_size=(1, 1), stride=(1, 1), bias=False)\n",
      "          (bn1): BatchNorm2d(64, eps=1e-05, momentum=0.1, affine=True, track_running_stats=True)\n",
      "          (conv2): Conv2d(64, 64, kernel_size=(3, 3), stride=(1, 1), padding=(1, 1), bias=False)\n",
      "          (bn2): BatchNorm2d(64, eps=1e-05, momentum=0.1, affine=True, track_running_stats=True)\n",
      "          (conv3): Conv2d(64, 256, kernel_size=(1, 1), stride=(1, 1), bias=False)\n",
      "          (bn3): BatchNorm2d(256, eps=1e-05, momentum=0.1, affine=True, track_running_stats=True)\n",
      "          (relu): ReLU(inplace=True)\n",
      "        )\n",
      "        (2): Bottleneck(\n",
      "          (conv1): Conv2d(256, 64, kernel_size=(1, 1), stride=(1, 1), bias=False)\n",
      "          (bn1): BatchNorm2d(64, eps=1e-05, momentum=0.1, affine=True, track_running_stats=True)\n",
      "          (conv2): Conv2d(64, 64, kernel_size=(3, 3), stride=(1, 1), padding=(1, 1), bias=False)\n",
      "          (bn2): BatchNorm2d(64, eps=1e-05, momentum=0.1, affine=True, track_running_stats=True)\n",
      "          (conv3): Conv2d(64, 256, kernel_size=(1, 1), stride=(1, 1), bias=False)\n",
      "          (bn3): BatchNorm2d(256, eps=1e-05, momentum=0.1, affine=True, track_running_stats=True)\n",
      "          (relu): ReLU(inplace=True)\n",
      "        )\n",
      "      )\n",
      "      (layer2): Sequential(\n",
      "        (0): Bottleneck(\n",
      "          (conv1): Conv2d(256, 128, kernel_size=(1, 1), stride=(1, 1), bias=False)\n",
      "          (bn1): BatchNorm2d(128, eps=1e-05, momentum=0.1, affine=True, track_running_stats=True)\n",
      "          (conv2): Conv2d(128, 128, kernel_size=(3, 3), stride=(2, 2), padding=(1, 1), bias=False)\n",
      "          (bn2): BatchNorm2d(128, eps=1e-05, momentum=0.1, affine=True, track_running_stats=True)\n",
      "          (conv3): Conv2d(128, 512, kernel_size=(1, 1), stride=(1, 1), bias=False)\n",
      "          (bn3): BatchNorm2d(512, eps=1e-05, momentum=0.1, affine=True, track_running_stats=True)\n",
      "          (relu): ReLU(inplace=True)\n",
      "          (downsample): Sequential(\n",
      "            (0): Conv2d(256, 512, kernel_size=(1, 1), stride=(2, 2), bias=False)\n",
      "            (1): BatchNorm2d(512, eps=1e-05, momentum=0.1, affine=True, track_running_stats=True)\n",
      "          )\n",
      "        )\n",
      "        (1): Bottleneck(\n",
      "          (conv1): Conv2d(512, 128, kernel_size=(1, 1), stride=(1, 1), bias=False)\n",
      "          (bn1): BatchNorm2d(128, eps=1e-05, momentum=0.1, affine=True, track_running_stats=True)\n",
      "          (conv2): Conv2d(128, 128, kernel_size=(3, 3), stride=(1, 1), padding=(1, 1), bias=False)\n",
      "          (bn2): BatchNorm2d(128, eps=1e-05, momentum=0.1, affine=True, track_running_stats=True)\n",
      "          (conv3): Conv2d(128, 512, kernel_size=(1, 1), stride=(1, 1), bias=False)\n",
      "          (bn3): BatchNorm2d(512, eps=1e-05, momentum=0.1, affine=True, track_running_stats=True)\n",
      "          (relu): ReLU(inplace=True)\n",
      "        )\n",
      "        (2): Bottleneck(\n",
      "          (conv1): Conv2d(512, 128, kernel_size=(1, 1), stride=(1, 1), bias=False)\n",
      "          (bn1): BatchNorm2d(128, eps=1e-05, momentum=0.1, affine=True, track_running_stats=True)\n",
      "          (conv2): Conv2d(128, 128, kernel_size=(3, 3), stride=(1, 1), padding=(1, 1), bias=False)\n",
      "          (bn2): BatchNorm2d(128, eps=1e-05, momentum=0.1, affine=True, track_running_stats=True)\n",
      "          (conv3): Conv2d(128, 512, kernel_size=(1, 1), stride=(1, 1), bias=False)\n",
      "          (bn3): BatchNorm2d(512, eps=1e-05, momentum=0.1, affine=True, track_running_stats=True)\n",
      "          (relu): ReLU(inplace=True)\n",
      "        )\n",
      "        (3): Bottleneck(\n",
      "          (conv1): Conv2d(512, 128, kernel_size=(1, 1), stride=(1, 1), bias=False)\n",
      "          (bn1): BatchNorm2d(128, eps=1e-05, momentum=0.1, affine=True, track_running_stats=True)\n",
      "          (conv2): Conv2d(128, 128, kernel_size=(3, 3), stride=(1, 1), padding=(1, 1), bias=False)\n",
      "          (bn2): BatchNorm2d(128, eps=1e-05, momentum=0.1, affine=True, track_running_stats=True)\n",
      "          (conv3): Conv2d(128, 512, kernel_size=(1, 1), stride=(1, 1), bias=False)\n",
      "          (bn3): BatchNorm2d(512, eps=1e-05, momentum=0.1, affine=True, track_running_stats=True)\n",
      "          (relu): ReLU(inplace=True)\n",
      "        )\n",
      "      )\n",
      "      (layer3): Sequential(\n",
      "        (0): Bottleneck(\n",
      "          (conv1): Conv2d(512, 256, kernel_size=(1, 1), stride=(1, 1), bias=False)\n",
      "          (bn1): BatchNorm2d(256, eps=1e-05, momentum=0.1, affine=True, track_running_stats=True)\n",
      "          (conv2): Conv2d(256, 256, kernel_size=(3, 3), stride=(1, 1), padding=(1, 1), bias=False)\n",
      "          (bn2): BatchNorm2d(256, eps=1e-05, momentum=0.1, affine=True, track_running_stats=True)\n",
      "          (conv3): Conv2d(256, 1024, kernel_size=(1, 1), stride=(1, 1), bias=False)\n",
      "          (bn3): BatchNorm2d(1024, eps=1e-05, momentum=0.1, affine=True, track_running_stats=True)\n",
      "          (relu): ReLU(inplace=True)\n",
      "          (downsample): Sequential(\n",
      "            (0): Conv2d(512, 1024, kernel_size=(1, 1), stride=(1, 1), bias=False)\n",
      "            (1): BatchNorm2d(1024, eps=1e-05, momentum=0.1, affine=True, track_running_stats=True)\n",
      "          )\n",
      "        )\n",
      "        (1): Bottleneck(\n",
      "          (conv1): Conv2d(1024, 256, kernel_size=(1, 1), stride=(1, 1), bias=False)\n",
      "          (bn1): BatchNorm2d(256, eps=1e-05, momentum=0.1, affine=True, track_running_stats=True)\n",
      "          (conv2): Conv2d(256, 256, kernel_size=(3, 3), stride=(1, 1), padding=(2, 2), dilation=(2, 2), bias=False)\n",
      "          (bn2): BatchNorm2d(256, eps=1e-05, momentum=0.1, affine=True, track_running_stats=True)\n",
      "          (conv3): Conv2d(256, 1024, kernel_size=(1, 1), stride=(1, 1), bias=False)\n",
      "          (bn3): BatchNorm2d(1024, eps=1e-05, momentum=0.1, affine=True, track_running_stats=True)\n",
      "          (relu): ReLU(inplace=True)\n",
      "        )\n",
      "        (2): Bottleneck(\n",
      "          (conv1): Conv2d(1024, 256, kernel_size=(1, 1), stride=(1, 1), bias=False)\n",
      "          (bn1): BatchNorm2d(256, eps=1e-05, momentum=0.1, affine=True, track_running_stats=True)\n",
      "          (conv2): Conv2d(256, 256, kernel_size=(3, 3), stride=(1, 1), padding=(2, 2), dilation=(2, 2), bias=False)\n",
      "          (bn2): BatchNorm2d(256, eps=1e-05, momentum=0.1, affine=True, track_running_stats=True)\n",
      "          (conv3): Conv2d(256, 1024, kernel_size=(1, 1), stride=(1, 1), bias=False)\n",
      "          (bn3): BatchNorm2d(1024, eps=1e-05, momentum=0.1, affine=True, track_running_stats=True)\n",
      "          (relu): ReLU(inplace=True)\n",
      "        )\n",
      "        (3): Bottleneck(\n",
      "          (conv1): Conv2d(1024, 256, kernel_size=(1, 1), stride=(1, 1), bias=False)\n",
      "          (bn1): BatchNorm2d(256, eps=1e-05, momentum=0.1, affine=True, track_running_stats=True)\n",
      "          (conv2): Conv2d(256, 256, kernel_size=(3, 3), stride=(1, 1), padding=(2, 2), dilation=(2, 2), bias=False)\n",
      "          (bn2): BatchNorm2d(256, eps=1e-05, momentum=0.1, affine=True, track_running_stats=True)\n",
      "          (conv3): Conv2d(256, 1024, kernel_size=(1, 1), stride=(1, 1), bias=False)\n",
      "          (bn3): BatchNorm2d(1024, eps=1e-05, momentum=0.1, affine=True, track_running_stats=True)\n",
      "          (relu): ReLU(inplace=True)\n",
      "        )\n",
      "        (4): Bottleneck(\n",
      "          (conv1): Conv2d(1024, 256, kernel_size=(1, 1), stride=(1, 1), bias=False)\n",
      "          (bn1): BatchNorm2d(256, eps=1e-05, momentum=0.1, affine=True, track_running_stats=True)\n",
      "          (conv2): Conv2d(256, 256, kernel_size=(3, 3), stride=(1, 1), padding=(2, 2), dilation=(2, 2), bias=False)\n",
      "          (bn2): BatchNorm2d(256, eps=1e-05, momentum=0.1, affine=True, track_running_stats=True)\n",
      "          (conv3): Conv2d(256, 1024, kernel_size=(1, 1), stride=(1, 1), bias=False)\n",
      "          (bn3): BatchNorm2d(1024, eps=1e-05, momentum=0.1, affine=True, track_running_stats=True)\n",
      "          (relu): ReLU(inplace=True)\n",
      "        )\n",
      "        (5): Bottleneck(\n",
      "          (conv1): Conv2d(1024, 256, kernel_size=(1, 1), stride=(1, 1), bias=False)\n",
      "          (bn1): BatchNorm2d(256, eps=1e-05, momentum=0.1, affine=True, track_running_stats=True)\n",
      "          (conv2): Conv2d(256, 256, kernel_size=(3, 3), stride=(1, 1), padding=(2, 2), dilation=(2, 2), bias=False)\n",
      "          (bn2): BatchNorm2d(256, eps=1e-05, momentum=0.1, affine=True, track_running_stats=True)\n",
      "          (conv3): Conv2d(256, 1024, kernel_size=(1, 1), stride=(1, 1), bias=False)\n",
      "          (bn3): BatchNorm2d(1024, eps=1e-05, momentum=0.1, affine=True, track_running_stats=True)\n",
      "          (relu): ReLU(inplace=True)\n",
      "        )\n",
      "        (6): Bottleneck(\n",
      "          (conv1): Conv2d(1024, 256, kernel_size=(1, 1), stride=(1, 1), bias=False)\n",
      "          (bn1): BatchNorm2d(256, eps=1e-05, momentum=0.1, affine=True, track_running_stats=True)\n",
      "          (conv2): Conv2d(256, 256, kernel_size=(3, 3), stride=(1, 1), padding=(2, 2), dilation=(2, 2), bias=False)\n",
      "          (bn2): BatchNorm2d(256, eps=1e-05, momentum=0.1, affine=True, track_running_stats=True)\n",
      "          (conv3): Conv2d(256, 1024, kernel_size=(1, 1), stride=(1, 1), bias=False)\n",
      "          (bn3): BatchNorm2d(1024, eps=1e-05, momentum=0.1, affine=True, track_running_stats=True)\n",
      "          (relu): ReLU(inplace=True)\n",
      "        )\n",
      "        (7): Bottleneck(\n",
      "          (conv1): Conv2d(1024, 256, kernel_size=(1, 1), stride=(1, 1), bias=False)\n",
      "          (bn1): BatchNorm2d(256, eps=1e-05, momentum=0.1, affine=True, track_running_stats=True)\n",
      "          (conv2): Conv2d(256, 256, kernel_size=(3, 3), stride=(1, 1), padding=(2, 2), dilation=(2, 2), bias=False)\n",
      "          (bn2): BatchNorm2d(256, eps=1e-05, momentum=0.1, affine=True, track_running_stats=True)\n",
      "          (conv3): Conv2d(256, 1024, kernel_size=(1, 1), stride=(1, 1), bias=False)\n",
      "          (bn3): BatchNorm2d(1024, eps=1e-05, momentum=0.1, affine=True, track_running_stats=True)\n",
      "          (relu): ReLU(inplace=True)\n",
      "        )\n",
      "        (8): Bottleneck(\n",
      "          (conv1): Conv2d(1024, 256, kernel_size=(1, 1), stride=(1, 1), bias=False)\n",
      "          (bn1): BatchNorm2d(256, eps=1e-05, momentum=0.1, affine=True, track_running_stats=True)\n",
      "          (conv2): Conv2d(256, 256, kernel_size=(3, 3), stride=(1, 1), padding=(2, 2), dilation=(2, 2), bias=False)\n",
      "          (bn2): BatchNorm2d(256, eps=1e-05, momentum=0.1, affine=True, track_running_stats=True)\n",
      "          (conv3): Conv2d(256, 1024, kernel_size=(1, 1), stride=(1, 1), bias=False)\n",
      "          (bn3): BatchNorm2d(1024, eps=1e-05, momentum=0.1, affine=True, track_running_stats=True)\n",
      "          (relu): ReLU(inplace=True)\n",
      "        )\n",
      "        (9): Bottleneck(\n",
      "          (conv1): Conv2d(1024, 256, kernel_size=(1, 1), stride=(1, 1), bias=False)\n",
      "          (bn1): BatchNorm2d(256, eps=1e-05, momentum=0.1, affine=True, track_running_stats=True)\n",
      "          (conv2): Conv2d(256, 256, kernel_size=(3, 3), stride=(1, 1), padding=(2, 2), dilation=(2, 2), bias=False)\n",
      "          (bn2): BatchNorm2d(256, eps=1e-05, momentum=0.1, affine=True, track_running_stats=True)\n",
      "          (conv3): Conv2d(256, 1024, kernel_size=(1, 1), stride=(1, 1), bias=False)\n",
      "          (bn3): BatchNorm2d(1024, eps=1e-05, momentum=0.1, affine=True, track_running_stats=True)\n",
      "          (relu): ReLU(inplace=True)\n",
      "        )\n",
      "        (10): Bottleneck(\n",
      "          (conv1): Conv2d(1024, 256, kernel_size=(1, 1), stride=(1, 1), bias=False)\n",
      "          (bn1): BatchNorm2d(256, eps=1e-05, momentum=0.1, affine=True, track_running_stats=True)\n",
      "          (conv2): Conv2d(256, 256, kernel_size=(3, 3), stride=(1, 1), padding=(2, 2), dilation=(2, 2), bias=False)\n",
      "          (bn2): BatchNorm2d(256, eps=1e-05, momentum=0.1, affine=True, track_running_stats=True)\n",
      "          (conv3): Conv2d(256, 1024, kernel_size=(1, 1), stride=(1, 1), bias=False)\n",
      "          (bn3): BatchNorm2d(1024, eps=1e-05, momentum=0.1, affine=True, track_running_stats=True)\n",
      "          (relu): ReLU(inplace=True)\n",
      "        )\n",
      "        (11): Bottleneck(\n",
      "          (conv1): Conv2d(1024, 256, kernel_size=(1, 1), stride=(1, 1), bias=False)\n",
      "          (bn1): BatchNorm2d(256, eps=1e-05, momentum=0.1, affine=True, track_running_stats=True)\n",
      "          (conv2): Conv2d(256, 256, kernel_size=(3, 3), stride=(1, 1), padding=(2, 2), dilation=(2, 2), bias=False)\n",
      "          (bn2): BatchNorm2d(256, eps=1e-05, momentum=0.1, affine=True, track_running_stats=True)\n",
      "          (conv3): Conv2d(256, 1024, kernel_size=(1, 1), stride=(1, 1), bias=False)\n",
      "          (bn3): BatchNorm2d(1024, eps=1e-05, momentum=0.1, affine=True, track_running_stats=True)\n",
      "          (relu): ReLU(inplace=True)\n",
      "        )\n",
      "        (12): Bottleneck(\n",
      "          (conv1): Conv2d(1024, 256, kernel_size=(1, 1), stride=(1, 1), bias=False)\n",
      "          (bn1): BatchNorm2d(256, eps=1e-05, momentum=0.1, affine=True, track_running_stats=True)\n",
      "          (conv2): Conv2d(256, 256, kernel_size=(3, 3), stride=(1, 1), padding=(2, 2), dilation=(2, 2), bias=False)\n",
      "          (bn2): BatchNorm2d(256, eps=1e-05, momentum=0.1, affine=True, track_running_stats=True)\n",
      "          (conv3): Conv2d(256, 1024, kernel_size=(1, 1), stride=(1, 1), bias=False)\n",
      "          (bn3): BatchNorm2d(1024, eps=1e-05, momentum=0.1, affine=True, track_running_stats=True)\n",
      "          (relu): ReLU(inplace=True)\n",
      "        )\n",
      "        (13): Bottleneck(\n",
      "          (conv1): Conv2d(1024, 256, kernel_size=(1, 1), stride=(1, 1), bias=False)\n",
      "          (bn1): BatchNorm2d(256, eps=1e-05, momentum=0.1, affine=True, track_running_stats=True)\n",
      "          (conv2): Conv2d(256, 256, kernel_size=(3, 3), stride=(1, 1), padding=(2, 2), dilation=(2, 2), bias=False)\n",
      "          (bn2): BatchNorm2d(256, eps=1e-05, momentum=0.1, affine=True, track_running_stats=True)\n",
      "          (conv3): Conv2d(256, 1024, kernel_size=(1, 1), stride=(1, 1), bias=False)\n",
      "          (bn3): BatchNorm2d(1024, eps=1e-05, momentum=0.1, affine=True, track_running_stats=True)\n",
      "          (relu): ReLU(inplace=True)\n",
      "        )\n",
      "        (14): Bottleneck(\n",
      "          (conv1): Conv2d(1024, 256, kernel_size=(1, 1), stride=(1, 1), bias=False)\n",
      "          (bn1): BatchNorm2d(256, eps=1e-05, momentum=0.1, affine=True, track_running_stats=True)\n",
      "          (conv2): Conv2d(256, 256, kernel_size=(3, 3), stride=(1, 1), padding=(2, 2), dilation=(2, 2), bias=False)\n",
      "          (bn2): BatchNorm2d(256, eps=1e-05, momentum=0.1, affine=True, track_running_stats=True)\n",
      "          (conv3): Conv2d(256, 1024, kernel_size=(1, 1), stride=(1, 1), bias=False)\n",
      "          (bn3): BatchNorm2d(1024, eps=1e-05, momentum=0.1, affine=True, track_running_stats=True)\n",
      "          (relu): ReLU(inplace=True)\n",
      "        )\n",
      "        (15): Bottleneck(\n",
      "          (conv1): Conv2d(1024, 256, kernel_size=(1, 1), stride=(1, 1), bias=False)\n",
      "          (bn1): BatchNorm2d(256, eps=1e-05, momentum=0.1, affine=True, track_running_stats=True)\n",
      "          (conv2): Conv2d(256, 256, kernel_size=(3, 3), stride=(1, 1), padding=(2, 2), dilation=(2, 2), bias=False)\n",
      "          (bn2): BatchNorm2d(256, eps=1e-05, momentum=0.1, affine=True, track_running_stats=True)\n",
      "          (conv3): Conv2d(256, 1024, kernel_size=(1, 1), stride=(1, 1), bias=False)\n",
      "          (bn3): BatchNorm2d(1024, eps=1e-05, momentum=0.1, affine=True, track_running_stats=True)\n",
      "          (relu): ReLU(inplace=True)\n",
      "        )\n",
      "        (16): Bottleneck(\n",
      "          (conv1): Conv2d(1024, 256, kernel_size=(1, 1), stride=(1, 1), bias=False)\n",
      "          (bn1): BatchNorm2d(256, eps=1e-05, momentum=0.1, affine=True, track_running_stats=True)\n",
      "          (conv2): Conv2d(256, 256, kernel_size=(3, 3), stride=(1, 1), padding=(2, 2), dilation=(2, 2), bias=False)\n",
      "          (bn2): BatchNorm2d(256, eps=1e-05, momentum=0.1, affine=True, track_running_stats=True)\n",
      "          (conv3): Conv2d(256, 1024, kernel_size=(1, 1), stride=(1, 1), bias=False)\n",
      "          (bn3): BatchNorm2d(1024, eps=1e-05, momentum=0.1, affine=True, track_running_stats=True)\n",
      "          (relu): ReLU(inplace=True)\n",
      "        )\n",
      "        (17): Bottleneck(\n",
      "          (conv1): Conv2d(1024, 256, kernel_size=(1, 1), stride=(1, 1), bias=False)\n",
      "          (bn1): BatchNorm2d(256, eps=1e-05, momentum=0.1, affine=True, track_running_stats=True)\n",
      "          (conv2): Conv2d(256, 256, kernel_size=(3, 3), stride=(1, 1), padding=(2, 2), dilation=(2, 2), bias=False)\n",
      "          (bn2): BatchNorm2d(256, eps=1e-05, momentum=0.1, affine=True, track_running_stats=True)\n",
      "          (conv3): Conv2d(256, 1024, kernel_size=(1, 1), stride=(1, 1), bias=False)\n",
      "          (bn3): BatchNorm2d(1024, eps=1e-05, momentum=0.1, affine=True, track_running_stats=True)\n",
      "          (relu): ReLU(inplace=True)\n",
      "        )\n",
      "        (18): Bottleneck(\n",
      "          (conv1): Conv2d(1024, 256, kernel_size=(1, 1), stride=(1, 1), bias=False)\n",
      "          (bn1): BatchNorm2d(256, eps=1e-05, momentum=0.1, affine=True, track_running_stats=True)\n",
      "          (conv2): Conv2d(256, 256, kernel_size=(3, 3), stride=(1, 1), padding=(2, 2), dilation=(2, 2), bias=False)\n",
      "          (bn2): BatchNorm2d(256, eps=1e-05, momentum=0.1, affine=True, track_running_stats=True)\n",
      "          (conv3): Conv2d(256, 1024, kernel_size=(1, 1), stride=(1, 1), bias=False)\n",
      "          (bn3): BatchNorm2d(1024, eps=1e-05, momentum=0.1, affine=True, track_running_stats=True)\n",
      "          (relu): ReLU(inplace=True)\n",
      "        )\n",
      "        (19): Bottleneck(\n",
      "          (conv1): Conv2d(1024, 256, kernel_size=(1, 1), stride=(1, 1), bias=False)\n",
      "          (bn1): BatchNorm2d(256, eps=1e-05, momentum=0.1, affine=True, track_running_stats=True)\n",
      "          (conv2): Conv2d(256, 256, kernel_size=(3, 3), stride=(1, 1), padding=(2, 2), dilation=(2, 2), bias=False)\n",
      "          (bn2): BatchNorm2d(256, eps=1e-05, momentum=0.1, affine=True, track_running_stats=True)\n",
      "          (conv3): Conv2d(256, 1024, kernel_size=(1, 1), stride=(1, 1), bias=False)\n",
      "          (bn3): BatchNorm2d(1024, eps=1e-05, momentum=0.1, affine=True, track_running_stats=True)\n",
      "          (relu): ReLU(inplace=True)\n",
      "        )\n",
      "        (20): Bottleneck(\n",
      "          (conv1): Conv2d(1024, 256, kernel_size=(1, 1), stride=(1, 1), bias=False)\n",
      "          (bn1): BatchNorm2d(256, eps=1e-05, momentum=0.1, affine=True, track_running_stats=True)\n",
      "          (conv2): Conv2d(256, 256, kernel_size=(3, 3), stride=(1, 1), padding=(2, 2), dilation=(2, 2), bias=False)\n",
      "          (bn2): BatchNorm2d(256, eps=1e-05, momentum=0.1, affine=True, track_running_stats=True)\n",
      "          (conv3): Conv2d(256, 1024, kernel_size=(1, 1), stride=(1, 1), bias=False)\n",
      "          (bn3): BatchNorm2d(1024, eps=1e-05, momentum=0.1, affine=True, track_running_stats=True)\n",
      "          (relu): ReLU(inplace=True)\n",
      "        )\n",
      "        (21): Bottleneck(\n",
      "          (conv1): Conv2d(1024, 256, kernel_size=(1, 1), stride=(1, 1), bias=False)\n",
      "          (bn1): BatchNorm2d(256, eps=1e-05, momentum=0.1, affine=True, track_running_stats=True)\n",
      "          (conv2): Conv2d(256, 256, kernel_size=(3, 3), stride=(1, 1), padding=(2, 2), dilation=(2, 2), bias=False)\n",
      "          (bn2): BatchNorm2d(256, eps=1e-05, momentum=0.1, affine=True, track_running_stats=True)\n",
      "          (conv3): Conv2d(256, 1024, kernel_size=(1, 1), stride=(1, 1), bias=False)\n",
      "          (bn3): BatchNorm2d(1024, eps=1e-05, momentum=0.1, affine=True, track_running_stats=True)\n",
      "          (relu): ReLU(inplace=True)\n",
      "        )\n",
      "        (22): Bottleneck(\n",
      "          (conv1): Conv2d(1024, 256, kernel_size=(1, 1), stride=(1, 1), bias=False)\n",
      "          (bn1): BatchNorm2d(256, eps=1e-05, momentum=0.1, affine=True, track_running_stats=True)\n",
      "          (conv2): Conv2d(256, 256, kernel_size=(3, 3), stride=(1, 1), padding=(2, 2), dilation=(2, 2), bias=False)\n",
      "          (bn2): BatchNorm2d(256, eps=1e-05, momentum=0.1, affine=True, track_running_stats=True)\n",
      "          (conv3): Conv2d(256, 1024, kernel_size=(1, 1), stride=(1, 1), bias=False)\n",
      "          (bn3): BatchNorm2d(1024, eps=1e-05, momentum=0.1, affine=True, track_running_stats=True)\n",
      "          (relu): ReLU(inplace=True)\n",
      "        )\n",
      "      )\n",
      "      (layer4): Sequential(\n",
      "        (0): Bottleneck(\n",
      "          (conv1): Conv2d(1024, 512, kernel_size=(1, 1), stride=(1, 1), bias=False)\n",
      "          (bn1): BatchNorm2d(512, eps=1e-05, momentum=0.1, affine=True, track_running_stats=True)\n",
      "          (conv2): Conv2d(512, 512, kernel_size=(3, 3), stride=(1, 1), padding=(2, 2), dilation=(2, 2), bias=False)\n",
      "          (bn2): BatchNorm2d(512, eps=1e-05, momentum=0.1, affine=True, track_running_stats=True)\n",
      "          (conv3): Conv2d(512, 2048, kernel_size=(1, 1), stride=(1, 1), bias=False)\n",
      "          (bn3): BatchNorm2d(2048, eps=1e-05, momentum=0.1, affine=True, track_running_stats=True)\n",
      "          (relu): ReLU(inplace=True)\n",
      "          (downsample): Sequential(\n",
      "            (0): Conv2d(1024, 2048, kernel_size=(1, 1), stride=(1, 1), bias=False)\n",
      "            (1): BatchNorm2d(2048, eps=1e-05, momentum=0.1, affine=True, track_running_stats=True)\n",
      "          )\n",
      "        )\n",
      "        (1): Bottleneck(\n",
      "          (conv1): Conv2d(2048, 512, kernel_size=(1, 1), stride=(1, 1), bias=False)\n",
      "          (bn1): BatchNorm2d(512, eps=1e-05, momentum=0.1, affine=True, track_running_stats=True)\n",
      "          (conv2): Conv2d(512, 512, kernel_size=(3, 3), stride=(1, 1), padding=(4, 4), dilation=(4, 4), bias=False)\n",
      "          (bn2): BatchNorm2d(512, eps=1e-05, momentum=0.1, affine=True, track_running_stats=True)\n",
      "          (conv3): Conv2d(512, 2048, kernel_size=(1, 1), stride=(1, 1), bias=False)\n",
      "          (bn3): BatchNorm2d(2048, eps=1e-05, momentum=0.1, affine=True, track_running_stats=True)\n",
      "          (relu): ReLU(inplace=True)\n",
      "        )\n",
      "        (2): Bottleneck(\n",
      "          (conv1): Conv2d(2048, 512, kernel_size=(1, 1), stride=(1, 1), bias=False)\n",
      "          (bn1): BatchNorm2d(512, eps=1e-05, momentum=0.1, affine=True, track_running_stats=True)\n",
      "          (conv2): Conv2d(512, 512, kernel_size=(3, 3), stride=(1, 1), padding=(4, 4), dilation=(4, 4), bias=False)\n",
      "          (bn2): BatchNorm2d(512, eps=1e-05, momentum=0.1, affine=True, track_running_stats=True)\n",
      "          (conv3): Conv2d(512, 2048, kernel_size=(1, 1), stride=(1, 1), bias=False)\n",
      "          (bn3): BatchNorm2d(2048, eps=1e-05, momentum=0.1, affine=True, track_running_stats=True)\n",
      "          (relu): ReLU(inplace=True)\n",
      "        )\n",
      "      )\n",
      "    )\n",
      "    (classifier): DeepLabHead(\n",
      "      (0): ASPP(\n",
      "        (convs): ModuleList(\n",
      "          (0): Sequential(\n",
      "            (0): Conv2d(2048, 256, kernel_size=(1, 1), stride=(1, 1), bias=False)\n",
      "            (1): BatchNorm2d(256, eps=1e-05, momentum=0.1, affine=True, track_running_stats=True)\n",
      "            (2): ReLU()\n",
      "          )\n",
      "          (1): ASPPConv(\n",
      "            (0): Conv2d(2048, 256, kernel_size=(3, 3), stride=(1, 1), padding=(12, 12), dilation=(12, 12), bias=False)\n",
      "            (1): BatchNorm2d(256, eps=1e-05, momentum=0.1, affine=True, track_running_stats=True)\n",
      "            (2): ReLU()\n",
      "          )\n",
      "          (2): ASPPConv(\n",
      "            (0): Conv2d(2048, 256, kernel_size=(3, 3), stride=(1, 1), padding=(24, 24), dilation=(24, 24), bias=False)\n",
      "            (1): BatchNorm2d(256, eps=1e-05, momentum=0.1, affine=True, track_running_stats=True)\n",
      "            (2): ReLU()\n",
      "          )\n",
      "          (3): ASPPConv(\n",
      "            (0): Conv2d(2048, 256, kernel_size=(3, 3), stride=(1, 1), padding=(36, 36), dilation=(36, 36), bias=False)\n",
      "            (1): BatchNorm2d(256, eps=1e-05, momentum=0.1, affine=True, track_running_stats=True)\n",
      "            (2): ReLU()\n",
      "          )\n",
      "          (4): ASPPPooling(\n",
      "            (0): AdaptiveAvgPool2d(output_size=1)\n",
      "            (1): Conv2d(2048, 256, kernel_size=(1, 1), stride=(1, 1), bias=False)\n",
      "            (2): BatchNorm2d(256, eps=1e-05, momentum=0.1, affine=True, track_running_stats=True)\n",
      "            (3): ReLU()\n",
      "          )\n",
      "        )\n",
      "        (project): Sequential(\n",
      "          (0): Conv2d(1280, 256, kernel_size=(1, 1), stride=(1, 1), bias=False)\n",
      "          (1): BatchNorm2d(256, eps=1e-05, momentum=0.1, affine=True, track_running_stats=True)\n",
      "          (2): ReLU()\n",
      "          (3): Dropout(p=0.5, inplace=False)\n",
      "        )\n",
      "      )\n",
      "      (1): Conv2d(256, 256, kernel_size=(3, 3), stride=(1, 1), padding=(1, 1), bias=False)\n",
      "      (2): BatchNorm2d(256, eps=1e-05, momentum=0.1, affine=True, track_running_stats=True)\n",
      "      (3): ReLU()\n",
      "      (4): Conv2d(256, 2, kernel_size=(1, 1), stride=(1, 1))\n",
      "    )\n",
      "    (aux_classifier): FCNHead(\n",
      "      (0): Conv2d(1024, 256, kernel_size=(3, 3), stride=(1, 1), padding=(1, 1), bias=False)\n",
      "      (1): BatchNorm2d(256, eps=1e-05, momentum=0.1, affine=True, track_running_stats=True)\n",
      "      (2): ReLU()\n",
      "      (3): Dropout(p=0.1, inplace=False)\n",
      "      (4): Conv2d(256, 21, kernel_size=(1, 1), stride=(1, 1))\n",
      "    )\n",
      "  )\n",
      ")\n"
     ]
    }
   ],
   "source": [
    "class LaneDetectionModel(nn.Module):\n",
    "    def __init__(self, num_classes=2):\n",
    "        super(LaneDetectionModel, self).__init__()\n",
    "\n",
    "        # Load pre-trained DeepLabV3 model\n",
    "        self.deeplabv3 = models.segmentation.deeplabv3_resnet101(pretrained=True)\n",
    "    \n",
    "        # Modify the output layer based on your needs\n",
    "        in_channels = self.deeplabv3.classifier[-1].in_channels\n",
    "        self.deeplabv3.classifier[-1] = nn.Conv2d(in_channels, num_classes, kernel_size=(1, 1), stride=(1, 1))\n",
    "\n",
    "    def forward(self, x):\n",
    "        return self.deeplabv3(x)['out']\n",
    "\n",
    "# Create an instance of the model\n",
    "lane_model = LaneDetectionModel()\n",
    "\n",
    "# Print the model architecture\n",
    "print(lane_model)"
   ]
  },
  {
   "cell_type": "markdown",
   "metadata": {
    "id": "UxHlfW-e-siP"
   },
   "source": [
    "# Instantiates an instance of the previously defined LaneDetectionModel with one output class, sets up Mean Squared Error (MSE) loss, defines an Adam optimizer with a learning rate of 0.001, specifies the number of training epochs (5), and splits the dataset into training, validation, and test sets using random splitting. Finally, creates DataLoader instances for the training, validation, and test sets with batch size 8"
   ]
  },
  {
   "cell_type": "code",
   "execution_count": 6,
   "metadata": {
    "id": "rEDy_LX-HhkW"
   },
   "outputs": [],
   "source": [
    "lane_model = LaneDetectionModel(num_classes=1)\n",
    "#criterion = nn.MSELoss()\n",
    "criterion = nn.BCEWithLogitsLoss()\n",
    "# Define optimizer (e.g., Adam)\n",
    "optimizer = optim.Adam(lane_model.parameters(), lr=0.001)\n",
    "num_epochs = 5\n",
    "# Split the dataset into train, validation, and test sets\n",
    "train_size = int(0.8 * len(dataset))\n",
    "val_size = int(0.1 * len(dataset))\n",
    "test_size = len(dataset) - train_size - val_size\n",
    "\n",
    "train_dataset, temp_dataset = torch.utils.data.random_split(dataset, [train_size, len(dataset) - train_size])\n",
    "val_dataset, test_dataset = torch.utils.data.random_split(temp_dataset, [val_size, test_size])\n",
    "\n",
    "# Create DataLoader\n",
    "train_loader = DataLoader(train_dataset, batch_size=8, shuffle=True)\n",
    "val_loader = DataLoader(val_dataset, batch_size=8, shuffle=False)\n",
    "test_loader = DataLoader(test_dataset, batch_size=8, shuffle=False)"
   ]
  },
  {
   "cell_type": "markdown",
   "metadata": {
    "id": "25t6_pjs_fZ2"
   },
   "source": [
    "# Set of image transforms, including resizing, random horizontal flipping, color jittering, converting to a PyTorch tensor, and normalization."
   ]
  },
  {
   "cell_type": "code",
   "execution_count": 10,
   "metadata": {
    "id": "pOGPynVPHhm0"
   },
   "outputs": [],
   "source": [
    "# Define transforms for normalization and augmentation\n",
    "transform = transforms.Compose([\n",
    "    transforms.Resize((224, 224)),\n",
    "    transforms.RandomHorizontalFlip(),\n",
    "    transforms.ColorJitter(brightness=0.2, contrast=0.2, saturation=0.2, hue=0.2),\n",
    "    transforms.ToTensor(),\n",
    "    transforms.Normalize(mean=[0.485, 0.456, 0.406], std=[0.229, 0.224, 0.225]),\n",
    "])\n",
    "\n",
    "# Load dataset with the defined transforms\n",
    "dataset = CustomDataset(root_dir=\"/Downloads\", transform=transform)"
   ]
  },
  {
   "cell_type": "markdown",
   "metadata": {
    "id": "J9DJNXQuAG6-"
   },
   "source": [
    "\n",
    "\n",
    "\n",
    "# A function (visualize_samples) to visualize the first sample of each minibatch from a given DataLoader, creates a DataLoader for visualization with a batch size of 8 and shuffling"
   ]
  },
  {
   "cell_type": "code",
   "execution_count": 11,
   "metadata": {
    "id": "h_XOi-_dHhpj"
   },
   "outputs": [],
   "source": [
    "# Visualize the 1st sample of each minibatch of size 8\n",
    "def visualize_samples(loader):\n",
    "    data_iter = iter(loader)\n",
    "    images, _ = next(data_iter)\n",
    "\n",
    "    for i in range(images.shape[0]):\n",
    "        plt.figure()\n",
    "        plt.imshow(images[i].permute(1, 2, 0))\n",
    "        plt.title(f\"Sample {i+1}\")\n",
    "        plt.show()\n",
    "\n",
    "# Create DataLoader for visualization\n",
    "visualize_loader = DataLoader(dataset, batch_size=8, shuffle=True)\n",
    "\n",
    "# Visualize the 1st sample of each minibatchvisualize_samples(visualize_loader)"
   ]
  },
  {
   "cell_type": "markdown",
   "metadata": {
    "id": "9HSIVFJeAZqk"
   },
   "source": [
    "# Set the neural network model (lane_model) to training mode, iterates through epochs and mini-batches in the training DataLoader (train_loader), performs a forward pass, calculates the Mean Squared Error (MSE) loss between the model's output and the target, backpropagates the gradients, and updates the model's weights using the Adam optimizer."
   ]
  },
  {
   "cell_type": "code",
   "execution_count": 12,
   "metadata": {
    "colab": {
     "base_uri": "https://localhost:8080/"
    },
    "id": "ZZkhH8soHhsh",
    "outputId": "e7eb6af6-fe2d-4436-f27a-a3ca16072453"
   },
   "outputs": [
    {
     "name": "stdout",
     "output_type": "stream",
     "text": [
      "Model Output Size: torch.Size([8, 1, 224, 224])\n",
      "Epoch 1, Batch 1, Loss: 0.5765178799629211\n",
      "Model Output Size: torch.Size([8, 1, 224, 224])\n",
      "Epoch 2, Batch 1, Loss: 0.6643367409706116\n",
      "Model Output Size: torch.Size([8, 1, 224, 224])\n",
      "Epoch 3, Batch 1, Loss: 0.7168167233467102\n",
      "Model Output Size: torch.Size([8, 1, 224, 224])\n",
      "Epoch 4, Batch 1, Loss: 0.9621191024780273\n",
      "Model Output Size: torch.Size([8, 1, 224, 224])\n",
      "Epoch 5, Batch 1, Loss: 0.5891720652580261\n"
     ]
    }
   ],
   "source": [
    "lane_model.train()  # Set the model to training mode\n",
    "#target = target.view(-1, 1, 1, 1).expand_as(output)\n",
    "for epoch in range(num_epochs):\n",
    "    for batch_idx, (data, target) in enumerate(train_loader):\n",
    "        if batch_idx == 0:  # Only for the first mini-batch\n",
    "            optimizer.zero_grad()  # Zero the gradients\n",
    "            output = lane_model(data)  # Forward pass\n",
    "            target = target.view(-1, 1, 1, 1).expand_as(output).float()\n",
    "            print(f\"Model Output Size: {output.shape}\")\n",
    "            loss = criterion(output, target)  # Calculate the loss\n",
    "            loss.backward()  # Backward pass\n",
    "            optimizer.step()  # Update the weights\n",
    "            print(f\"Epoch {epoch+1}, Batch {batch_idx+1}, Loss: {loss.item()}\")"
   ]
  },
  {
   "cell_type": "markdown",
   "metadata": {
    "id": "4ujgjlgyAiqX"
   },
   "source": [
    "# Transform in the CustomDataset class, setting it to resize images to 32 by 32 pixels, convert them to PyTorch tensors, and normalize the pixel values"
   ]
  },
  {
   "cell_type": "code",
   "execution_count": 13,
   "metadata": {
    "id": "WJge7TSEHhvL"
   },
   "outputs": [],
   "source": [
    "transform = transforms.Compose([\n",
    "    transforms.Resize((32, 32)),  # Resize to 32 by 32\n",
    "    transforms.ToTensor(),\n",
    "    transforms.Normalize(mean=[0.485, 0.456, 0.406], std=[0.229, 0.224, 0.225]),\n",
    "])\n",
    "\n",
    "# Update the transform in CustomDataset\n",
    "dataset = CustomDataset(root_dir=\"/Downloads\", transform=transform)"
   ]
  },
  {
   "cell_type": "markdown",
   "metadata": {
    "id": "nEoEijEaApOh"
   },
   "source": [
    "# Update the optimizer with a new learning rate, perform a validation loop to find a suitable learning rate by evaluating the model on the validation set, and then updates the optimizer with the chosen learning rate. Finally, trains the model using the updated optimizer on the training set for the specified number of epochs. The training progress, including epoch number, batch number, and loss, is printed during training."
   ]
  },
  {
   "cell_type": "code",
   "execution_count": 14,
   "metadata": {
    "colab": {
     "background_save": true,
     "base_uri": "https://localhost:8080/"
    },
    "id": "Aj-QGGa2HhyM",
    "outputId": "08c45967-2432-4af9-ae49-08301886fa9b"
   },
   "outputs": [
    {
     "name": "stdout",
     "output_type": "stream",
     "text": [
      "Epoch 1, Learning rate: 0.001, Train Loss: -0.12326176913888452, Validation Loss: -4850584.166666667\n",
      "Epoch 2, Learning rate: 0.0001, Train Loss: -0.9648235413349338, Validation Loss: -5.944232898846773\n",
      "Epoch 3, Learning rate: 1e-05, Train Loss: -0.9976361976910589, Validation Loss: -2.44567851475828\n",
      "Epoch 4, Learning rate: 1.0000000000000002e-06, Train Loss: -0.8335243501448227, Validation Loss: -2.4701258136192337\n",
      "Epoch 5, Learning rate: 1.0000000000000002e-07, Train Loss: -1.0061096877778053, Validation Loss: -2.5742471220049388\n",
      "Epoch 1, Learning rate: 0.010000000000000002, Train Loss: -4.435871084531148, Validation Loss: -21731158086997.332\n",
      "Epoch 2, Learning rate: 0.0010000000000000002, Train Loss: -19.58624683486091, Validation Loss: -15.987458494815902\n",
      "Epoch 3, Learning rate: 0.00010000000000000003, Train Loss: -29.866581701570087, Validation Loss: -55.426045735677086\n",
      "Epoch 4, Learning rate: 1.0000000000000004e-05, Train Loss: -23.929314533869427, Validation Loss: -54.94017028808594\n",
      "Epoch 5, Learning rate: 1.0000000000000004e-06, Train Loss: -25.420297430621186, Validation Loss: -52.26294453938802\n"
     ]
    }
   ],
   "source": [
    "from torch.optim import lr_scheduler\n",
    "learning_rates = [0.01, 0.1]\n",
    "best_val_loss = float('inf')  # Initialize with a large value\n",
    "\n",
    "for lr in learning_rates:\n",
    "    optimizer = optim.Adam(lane_model.parameters(), lr=lr)\n",
    "    scheduler = lr_scheduler.StepLR(optimizer, step_size=1, gamma=0.1)\n",
    "\n",
    "    for epoch in range(num_epochs):\n",
    "        lane_model.train()\n",
    "        train_loss = 0.0\n",
    "        for batch_idx, (data, target) in enumerate(train_loader):\n",
    "            optimizer.zero_grad()\n",
    "            output = lane_model(data)\n",
    "            target = target.view(-1, 1, 1, 1).expand_as(output).float()\n",
    "            loss = criterion(output, target)\n",
    "            loss.backward()\n",
    "            optimizer.step()\n",
    "            train_loss += loss.item()\n",
    "\n",
    "        scheduler.step()\n",
    "\n",
    "        # Validation loop\n",
    "        lane_model.eval()\n",
    "        val_loss = 0.0\n",
    "        for batch_idx, (data, target) in enumerate(val_loader):\n",
    "            with torch.no_grad():\n",
    "                output = lane_model(data)\n",
    "                target = target.view(-1, 1, 1, 1).expand_as(output).float()\n",
    "                loss = criterion(output, target)\n",
    "                val_loss += loss.item()\n",
    "\n",
    "        avg_train_loss = train_loss / len(train_loader)\n",
    "        avg_val_loss = val_loss / len(val_loader)\n",
    "        print(f\"Epoch {epoch+1}, Learning rate: {optimizer.param_groups[0]['lr']}, \"\n",
    "              f\"Train Loss: {avg_train_loss}, Validation Loss: {avg_val_loss}\")\n",
    "\n",
    "        # Save the model if it has the best validation loss\n",
    "        if avg_val_loss < best_val_loss:\n",
    "            best_val_loss = avg_val_loss\n",
    "            torch.save(lane_model.state_dict(), 'best_model.pth')\n"
   ]
  },
  {
   "cell_type": "code",
   "execution_count": 15,
   "metadata": {
    "colab": {
     "base_uri": "https://localhost:8080/"
    },
    "id": "5VqL0vPTEiXw",
    "outputId": "b2a0626f-470e-44b1-d0db-de12d69b7ed7"
   },
   "outputs": [
    {
     "name": "stdout",
     "output_type": "stream",
     "text": [
      "Epoch 1, Batch 1, Loss: 32.45806121826172\n",
      "Epoch 1, Batch 2, Loss: -70.83707427978516\n",
      "Epoch 1, Batch 3, Loss: -35.88535690307617\n",
      "Epoch 1, Batch 4, Loss: -54.305545806884766\n",
      "Epoch 1, Batch 5, Loss: -41.303653717041016\n",
      "Epoch 1, Batch 6, Loss: -70.14082336425781\n",
      "Epoch 1, Batch 7, Loss: -35.337650299072266\n",
      "Epoch 1, Batch 8, Loss: 2.387404940407123e-09\n",
      "Epoch 1, Batch 9, Loss: -69.35992431640625\n",
      "Epoch 1, Batch 10, Loss: 0.0\n",
      "Epoch 1, Batch 11, Loss: -42.66969680786133\n",
      "Epoch 1, Batch 12, Loss: 0.5809008479118347\n",
      "Epoch 1, Batch 13, Loss: -33.03559875488281\n",
      "Epoch 1, Batch 14, Loss: -4.036464214324951\n",
      "Epoch 1, Batch 15, Loss: -64.99867248535156\n",
      "Epoch 1, Batch 16, Loss: -74.98556518554688\n",
      "Epoch 1, Batch 17, Loss: -1.0018965005874634\n",
      "Epoch 1, Batch 18, Loss: 37.399658203125\n",
      "Epoch 2, Batch 1, Loss: -45.619754791259766\n",
      "Epoch 2, Batch 2, Loss: 77.39561462402344\n",
      "Epoch 2, Batch 3, Loss: -62.27387619018555\n",
      "Epoch 2, Batch 4, Loss: 35.35018539428711\n",
      "Epoch 2, Batch 5, Loss: -82.76883697509766\n",
      "Epoch 2, Batch 6, Loss: 76.07001495361328\n",
      "Epoch 2, Batch 7, Loss: -0.6601089239120483\n",
      "Epoch 2, Batch 8, Loss: -31.816652297973633\n",
      "Epoch 2, Batch 9, Loss: 4.626562118530273\n",
      "Epoch 2, Batch 10, Loss: -105.5614013671875\n",
      "Epoch 2, Batch 11, Loss: -105.62210083007812\n",
      "Epoch 2, Batch 12, Loss: -36.914207458496094\n",
      "Epoch 2, Batch 13, Loss: 0.0\n",
      "Epoch 2, Batch 14, Loss: -41.34808349609375\n",
      "Epoch 2, Batch 15, Loss: -30.691814422607422\n",
      "Epoch 2, Batch 16, Loss: -41.50586700439453\n",
      "Epoch 2, Batch 17, Loss: -64.89044189453125\n",
      "Epoch 2, Batch 18, Loss: -53.566165924072266\n",
      "Epoch 3, Batch 1, Loss: -86.43513488769531\n",
      "Epoch 3, Batch 2, Loss: 4.007994174957275\n",
      "Epoch 3, Batch 3, Loss: 52.5811882019043\n",
      "Epoch 3, Batch 4, Loss: -37.917442321777344\n",
      "Epoch 3, Batch 5, Loss: 13.216475486755371\n",
      "Epoch 3, Batch 6, Loss: -33.26667785644531\n",
      "Epoch 3, Batch 7, Loss: -75.16629791259766\n",
      "Epoch 3, Batch 8, Loss: -40.800968170166016\n",
      "Epoch 3, Batch 9, Loss: -39.38816452026367\n",
      "Epoch 3, Batch 10, Loss: -30.70045280456543\n",
      "Epoch 3, Batch 11, Loss: -3.3978843688964844\n",
      "Epoch 3, Batch 12, Loss: -63.22200012207031\n",
      "Epoch 3, Batch 13, Loss: -32.53913116455078\n",
      "Epoch 3, Batch 14, Loss: -44.78507995605469\n",
      "Epoch 3, Batch 15, Loss: -39.30446243286133\n",
      "Epoch 3, Batch 16, Loss: -46.9595832824707\n",
      "Epoch 3, Batch 17, Loss: -10.391048431396484\n",
      "Epoch 3, Batch 18, Loss: -47.298004150390625\n",
      "Epoch 4, Batch 1, Loss: -84.35279846191406\n",
      "Epoch 4, Batch 2, Loss: -33.91465377807617\n",
      "Epoch 4, Batch 3, Loss: -74.5223388671875\n",
      "Epoch 4, Batch 4, Loss: 2.7381358291833635e-10\n",
      "Epoch 4, Batch 5, Loss: 3.123563766479492\n",
      "Epoch 4, Batch 6, Loss: -35.41779327392578\n",
      "Epoch 4, Batch 7, Loss: 43.101531982421875\n",
      "Epoch 4, Batch 8, Loss: -72.7900619506836\n",
      "Epoch 4, Batch 9, Loss: -41.30385971069336\n",
      "Epoch 4, Batch 10, Loss: -48.03835678100586\n",
      "Epoch 4, Batch 11, Loss: -100.20126342773438\n",
      "Epoch 4, Batch 12, Loss: -20.799726486206055\n",
      "Epoch 4, Batch 13, Loss: 13.028127670288086\n",
      "Epoch 4, Batch 14, Loss: 5.4239630699157715\n",
      "Epoch 4, Batch 15, Loss: 37.810028076171875\n",
      "Epoch 4, Batch 16, Loss: -79.31346893310547\n",
      "Epoch 4, Batch 17, Loss: 19.858715057373047\n",
      "Epoch 4, Batch 18, Loss: -72.76395416259766\n",
      "Epoch 5, Batch 1, Loss: -22.154233932495117\n",
      "Epoch 5, Batch 2, Loss: 34.410980224609375\n",
      "Epoch 5, Batch 3, Loss: -83.09842681884766\n",
      "Epoch 5, Batch 4, Loss: -55.79152297973633\n",
      "Epoch 5, Batch 5, Loss: -41.83037567138672\n",
      "Epoch 5, Batch 6, Loss: -86.44356536865234\n",
      "Epoch 5, Batch 7, Loss: -1.5415363311767578\n",
      "Epoch 5, Batch 8, Loss: -3.9540977478027344\n",
      "Epoch 5, Batch 9, Loss: -78.36935424804688\n",
      "Epoch 5, Batch 10, Loss: 8.977434158325195\n",
      "Epoch 5, Batch 11, Loss: -54.98619842529297\n",
      "Epoch 5, Batch 12, Loss: -47.03689193725586\n",
      "Epoch 5, Batch 13, Loss: -44.78736877441406\n",
      "Epoch 5, Batch 14, Loss: -36.22397994995117\n",
      "Epoch 5, Batch 15, Loss: 46.47700119018555\n",
      "Epoch 5, Batch 16, Loss: -31.442352294921875\n",
      "Epoch 5, Batch 17, Loss: -83.13481903076172\n",
      "Epoch 5, Batch 18, Loss: -51.927677154541016\n"
     ]
    }
   ],
   "source": [
    "# After finding a suitable learning rate, update the optimizer\n",
    "optimizer = optim.Adam(lane_model.parameters(), lr=0.001)  # Update with the chosen learning rate\n",
    "\n",
    "# Train the model with the updated optimizer\n",
    "lane_model.train()\n",
    "for epoch in range(num_epochs):\n",
    "    for batch_idx, (data, target) in enumerate(train_loader):\n",
    "        optimizer.zero_grad()\n",
    "        output = lane_model(data)\n",
    "        target = target.view(-1, 1, 1, 1).expand_as(output).float()\n",
    "        loss = criterion(output, target)\n",
    "        loss.backward()\n",
    "        optimizer.step()\n",
    "        print(f\"Epoch {epoch+1}, Batch {batch_idx+1}, Loss: {loss.item()}\")"
   ]
  },
  {
   "cell_type": "markdown",
   "metadata": {
    "id": "ycssQUQXA-ze"
   },
   "source": [
    "# Evaluate the trained model on the test set in evaluation mode, calculating the Mean Squared Error (MSE) and Mean Absolute Error (MAE) for each mini-batch, and then computes the average MSE and MAE over the entire test set."
   ]
  },
  {
   "cell_type": "code",
   "execution_count": 16,
   "metadata": {
    "id": "9jpWTTfvHh1U"
   },
   "outputs": [],
   "source": [
    "lane_model.eval()  # Set the model to evaluation mode\n",
    "total_mse = 0.0\n",
    "total_mae = 0.0\n",
    "num_samples = 0\n",
    "\n",
    "for data, target in test_loader:\n",
    "    with torch.no_grad():\n",
    "        output = lane_model(data)\n",
    "        target = target.view(-1, 1, 1, 1).expand_as(output).float()\n",
    "\n",
    "        # Calculate Mean Squared Error (MSE)\n",
    "        mse = nn.MSELoss()(output, target)\n",
    "        total_mse += mse.item()\n",
    "\n",
    "        # Calculate Mean Absolute Error (MAE)\n",
    "        mae = nn.L1Loss()(output, target)\n",
    "        total_mae += mae.item()\n",
    "\n",
    "        num_samples += data.size(0)\n",
    "\n",
    "# Calculate average metrics\n",
    "avg_mse = total_mse / len(test_loader)\n",
    "avg_mae = total_mae / len(test_loader)\n"
   ]
  },
  {
   "cell_type": "code",
   "execution_count": 17,
   "metadata": {
    "colab": {
     "base_uri": "https://localhost:8080/"
    },
    "id": "PzBxEtLnjvko",
    "outputId": "7b496891-316f-44e5-a471-f974f110e41e"
   },
   "outputs": [
    {
     "name": "stdout",
     "output_type": "stream",
     "text": [
      "Average MSE: 44180.742513020836\n",
      "Average MAE: 163.7155532836914\n"
     ]
    }
   ],
   "source": [
    "print(\"Average MSE:\",avg_mse)\n",
    "print(\"Average MAE:\",avg_mae)"
   ]
  },
  {
   "cell_type": "code",
   "execution_count": 18,
   "metadata": {
    "colab": {
     "base_uri": "https://localhost:8080/"
    },
    "id": "yypOoC7GjSB7",
    "outputId": "2e4ebfb4-2ce8-4b41-f534-66f198253ba9"
   },
   "outputs": [
    {
     "name": "stdout",
     "output_type": "stream",
     "text": [
      "F1 Score: 0.9444\n",
      "Accuracy: 0.8947\n"
     ]
    }
   ],
   "source": [
    "import torch\n",
    "from sklearn.metrics import f1_score, accuracy_score\n",
    "import numpy as np\n",
    "\n",
    "lane_model.eval()  # Set the model to evaluation mode\n",
    "threshold = 0.5\n",
    "\n",
    "true_labels = []\n",
    "predicted_labels = []\n",
    "\n",
    "for data, target in test_loader:\n",
    "    with torch.no_grad():\n",
    "        output = lane_model(data)\n",
    "        target = target.view(-1, 1, 1, 1).expand_as(output).float()\n",
    "\n",
    "        # Convert continuous predictions to binary\n",
    "        binary_predictions = (output > threshold).float()\n",
    "\n",
    "        true_labels.extend(target.cpu().numpy().flatten())\n",
    "        predicted_labels.extend(binary_predictions.cpu().numpy().flatten())\n",
    "\n",
    "# Convert lists to numpy arrays\n",
    "true_labels = np.array(true_labels)\n",
    "predicted_labels = np.array(predicted_labels)\n",
    "\n",
    "# Convert to binary labels based on the threshold\n",
    "binary_true_labels = (true_labels > threshold).astype(int)\n",
    "binary_predicted_labels = (predicted_labels > threshold).astype(int)\n",
    "\n",
    "# Calculate F1 score\n",
    "f1 = f1_score(binary_true_labels, binary_predicted_labels)\n",
    "\n",
    "# Calculate Accuracy\n",
    "accuracy = accuracy_score(binary_true_labels, binary_predicted_labels)\n",
    "\n",
    "print(f\"F1 Score: {f1:.4f}\")\n",
    "print(f\"Accuracy: {accuracy:.4f}\")"
   ]
  },
  {
   "cell_type": "code",
   "execution_count": 23,
   "metadata": {},
   "outputs": [
    {
     "name": "stdout",
     "output_type": "stream",
     "text": [
      "Requirement already satisfied: gradio in c:\\users\\91767\\lokesh\\lib\\site-packages (4.7.1)\n",
      "Requirement already satisfied: aiofiles<24.0,>=22.0 in c:\\users\\91767\\lokesh\\lib\\site-packages (from gradio) (22.1.0)\n",
      "Requirement already satisfied: altair<6.0,>=4.2.0 in c:\\users\\91767\\lokesh\\lib\\site-packages (from gradio) (5.2.0)\n",
      "Requirement already satisfied: fastapi in c:\\users\\91767\\lokesh\\lib\\site-packages (from gradio) (0.104.1)\n",
      "Requirement already satisfied: ffmpy in c:\\users\\91767\\lokesh\\lib\\site-packages (from gradio) (0.3.1)\n",
      "Requirement already satisfied: gradio-client==0.7.0 in c:\\users\\91767\\lokesh\\lib\\site-packages (from gradio) (0.7.0)\n",
      "Requirement already satisfied: httpx in c:\\users\\91767\\lokesh\\lib\\site-packages (from gradio) (0.25.2)\n",
      "Requirement already satisfied: huggingface-hub>=0.14.0 in c:\\users\\91767\\lokesh\\lib\\site-packages (from gradio) (0.19.4)\n",
      "Requirement already satisfied: importlib-resources<7.0,>=1.3 in c:\\users\\91767\\lokesh\\lib\\site-packages (from gradio) (6.1.1)\n",
      "Requirement already satisfied: jinja2<4.0 in c:\\users\\91767\\lokesh\\lib\\site-packages (from gradio) (3.1.2)\n",
      "Requirement already satisfied: markupsafe~=2.0 in c:\\users\\91767\\lokesh\\lib\\site-packages (from gradio) (2.1.1)\n",
      "Requirement already satisfied: matplotlib~=3.0 in c:\\users\\91767\\lokesh\\lib\\site-packages (from gradio) (3.7.1)\n",
      "Requirement already satisfied: numpy~=1.0 in c:\\users\\91767\\lokesh\\lib\\site-packages (from gradio) (1.24.3)\n",
      "Requirement already satisfied: orjson~=3.0 in c:\\users\\91767\\lokesh\\lib\\site-packages (from gradio) (3.9.10)\n",
      "Requirement already satisfied: packaging in c:\\users\\91767\\lokesh\\lib\\site-packages (from gradio) (23.0)\n",
      "Requirement already satisfied: pandas<3.0,>=1.0 in c:\\users\\91767\\lokesh\\lib\\site-packages (from gradio) (1.5.3)\n",
      "Requirement already satisfied: pillow<11.0,>=8.0 in c:\\users\\91767\\lokesh\\lib\\site-packages (from gradio) (9.4.0)\n",
      "Requirement already satisfied: pydantic>=2.0 in c:\\users\\91767\\lokesh\\lib\\site-packages (from gradio) (2.5.2)\n",
      "Requirement already satisfied: pydub in c:\\users\\91767\\lokesh\\lib\\site-packages (from gradio) (0.25.1)\n",
      "Requirement already satisfied: python-multipart in c:\\users\\91767\\lokesh\\lib\\site-packages (from gradio) (0.0.6)\n",
      "Requirement already satisfied: pyyaml<7.0,>=5.0 in c:\\users\\91767\\lokesh\\lib\\site-packages (from gradio) (6.0)\n",
      "Requirement already satisfied: requests~=2.0 in c:\\users\\91767\\lokesh\\lib\\site-packages (from gradio) (2.31.0)\n",
      "Requirement already satisfied: semantic-version~=2.0 in c:\\users\\91767\\lokesh\\lib\\site-packages (from gradio) (2.10.0)\n",
      "Requirement already satisfied: tomlkit==0.12.0 in c:\\users\\91767\\lokesh\\lib\\site-packages (from gradio) (0.12.0)\n",
      "Requirement already satisfied: typer<1.0,>=0.9 in c:\\users\\91767\\lokesh\\lib\\site-packages (from typer[all]<1.0,>=0.9->gradio) (0.9.0)\n",
      "Requirement already satisfied: typing-extensions~=4.0 in c:\\users\\91767\\lokesh\\lib\\site-packages (from gradio) (4.8.0)\n",
      "Requirement already satisfied: uvicorn>=0.14.0 in c:\\users\\91767\\lokesh\\lib\\site-packages (from gradio) (0.24.0.post1)\n",
      "Requirement already satisfied: fsspec in c:\\users\\91767\\lokesh\\lib\\site-packages (from gradio-client==0.7.0->gradio) (2023.10.0)\n",
      "Requirement already satisfied: websockets<12.0,>=10.0 in c:\\users\\91767\\lokesh\\lib\\site-packages (from gradio-client==0.7.0->gradio) (11.0.3)\n",
      "Requirement already satisfied: jsonschema>=3.0 in c:\\users\\91767\\lokesh\\lib\\site-packages (from altair<6.0,>=4.2.0->gradio) (4.17.3)\n",
      "Requirement already satisfied: toolz in c:\\users\\91767\\lokesh\\lib\\site-packages (from altair<6.0,>=4.2.0->gradio) (0.12.0)\n",
      "Requirement already satisfied: filelock in c:\\users\\91767\\lokesh\\lib\\site-packages (from huggingface-hub>=0.14.0->gradio) (3.9.0)\n",
      "Requirement already satisfied: tqdm>=4.42.1 in c:\\users\\91767\\lokesh\\lib\\site-packages (from huggingface-hub>=0.14.0->gradio) (4.65.0)\n",
      "Requirement already satisfied: contourpy>=1.0.1 in c:\\users\\91767\\lokesh\\lib\\site-packages (from matplotlib~=3.0->gradio) (1.0.5)\n",
      "Requirement already satisfied: cycler>=0.10 in c:\\users\\91767\\lokesh\\lib\\site-packages (from matplotlib~=3.0->gradio) (0.10.0)\n",
      "Requirement already satisfied: fonttools>=4.22.0 in c:\\users\\91767\\lokesh\\lib\\site-packages (from matplotlib~=3.0->gradio) (4.25.0)\n",
      "Requirement already satisfied: kiwisolver>=1.0.1 in c:\\users\\91767\\lokesh\\lib\\site-packages (from matplotlib~=3.0->gradio) (1.4.4)\n",
      "Requirement already satisfied: pyparsing>=2.3.1 in c:\\users\\91767\\lokesh\\lib\\site-packages (from matplotlib~=3.0->gradio) (2.4.7)\n",
      "Requirement already satisfied: python-dateutil>=2.7 in c:\\users\\91767\\lokesh\\lib\\site-packages (from matplotlib~=3.0->gradio) (2.8.2)\n",
      "Requirement already satisfied: pytz>=2020.1 in c:\\users\\91767\\lokesh\\lib\\site-packages (from pandas<3.0,>=1.0->gradio) (2022.7)\n",
      "Requirement already satisfied: annotated-types>=0.4.0 in c:\\users\\91767\\lokesh\\lib\\site-packages (from pydantic>=2.0->gradio) (0.6.0)\n",
      "Requirement already satisfied: pydantic-core==2.14.5 in c:\\users\\91767\\lokesh\\lib\\site-packages (from pydantic>=2.0->gradio) (2.14.5)\n",
      "Requirement already satisfied: charset-normalizer<4,>=2 in c:\\users\\91767\\lokesh\\lib\\site-packages (from requests~=2.0->gradio) (2.0.4)\n",
      "Requirement already satisfied: idna<4,>=2.5 in c:\\users\\91767\\lokesh\\lib\\site-packages (from requests~=2.0->gradio) (2.10)\n",
      "Requirement already satisfied: urllib3<3,>=1.21.1 in c:\\users\\91767\\lokesh\\lib\\site-packages (from requests~=2.0->gradio) (1.26.16)\n",
      "Requirement already satisfied: certifi>=2017.4.17 in c:\\users\\91767\\lokesh\\lib\\site-packages (from requests~=2.0->gradio) (2023.7.22)\n",
      "Requirement already satisfied: click<9.0.0,>=7.1.1 in c:\\users\\91767\\lokesh\\lib\\site-packages (from typer<1.0,>=0.9->typer[all]<1.0,>=0.9->gradio) (8.1.7)\n",
      "Requirement already satisfied: colorama<0.5.0,>=0.4.3 in c:\\users\\91767\\lokesh\\lib\\site-packages (from typer[all]<1.0,>=0.9->gradio) (0.4.6)\n",
      "Requirement already satisfied: shellingham<2.0.0,>=1.3.0 in c:\\users\\91767\\lokesh\\lib\\site-packages (from typer[all]<1.0,>=0.9->gradio) (1.5.4)\n",
      "Requirement already satisfied: rich<14.0.0,>=10.11.0 in c:\\users\\91767\\lokesh\\lib\\site-packages (from typer[all]<1.0,>=0.9->gradio) (13.7.0)\n",
      "Requirement already satisfied: h11>=0.8 in c:\\users\\91767\\lokesh\\lib\\site-packages (from uvicorn>=0.14.0->gradio) (0.14.0)\n",
      "Requirement already satisfied: anyio<4.0.0,>=3.7.1 in c:\\users\\91767\\lokesh\\lib\\site-packages (from fastapi->gradio) (3.7.1)\n",
      "Requirement already satisfied: starlette<0.28.0,>=0.27.0 in c:\\users\\91767\\lokesh\\lib\\site-packages (from fastapi->gradio) (0.27.0)\n",
      "Requirement already satisfied: httpcore==1.* in c:\\users\\91767\\lokesh\\lib\\site-packages (from httpx->gradio) (1.0.2)\n",
      "Requirement already satisfied: sniffio in c:\\users\\91767\\lokesh\\lib\\site-packages (from httpx->gradio) (1.2.0)\n",
      "Requirement already satisfied: six in c:\\users\\91767\\lokesh\\lib\\site-packages (from cycler>=0.10->matplotlib~=3.0->gradio) (1.16.0)\n",
      "Requirement already satisfied: attrs>=17.4.0 in c:\\users\\91767\\lokesh\\lib\\site-packages (from jsonschema>=3.0->altair<6.0,>=4.2.0->gradio) (22.1.0)\n",
      "Requirement already satisfied: pyrsistent!=0.17.0,!=0.17.1,!=0.17.2,>=0.14.0 in c:\\users\\91767\\lokesh\\lib\\site-packages (from jsonschema>=3.0->altair<6.0,>=4.2.0->gradio) (0.18.0)\n",
      "Requirement already satisfied: markdown-it-py>=2.2.0 in c:\\users\\91767\\lokesh\\lib\\site-packages (from rich<14.0.0,>=10.11.0->typer[all]<1.0,>=0.9->gradio) (2.2.0)\n",
      "Requirement already satisfied: pygments<3.0.0,>=2.13.0 in c:\\users\\91767\\lokesh\\lib\\site-packages (from rich<14.0.0,>=10.11.0->typer[all]<1.0,>=0.9->gradio) (2.15.1)\n",
      "Requirement already satisfied: mdurl~=0.1 in c:\\users\\91767\\lokesh\\lib\\site-packages (from markdown-it-py>=2.2.0->rich<14.0.0,>=10.11.0->typer[all]<1.0,>=0.9->gradio) (0.1.0)\n",
      "Python 3.11.4\n"
     ]
    }
   ],
   "source": [
    "!pip install gradio\n",
    "!python --version"
   ]
  },
  {
   "cell_type": "code",
   "execution_count": 8,
   "metadata": {},
   "outputs": [
    {
     "name": "stdout",
     "output_type": "stream",
     "text": [
      "Flattened Size: 2048\n"
     ]
    }
   ],
   "source": [
    "class MiniLaneDetectionModel(nn.Module):\n",
    "    def __init__(self, num_classes=2):\n",
    "        super(MiniLaneDetectionModel, self).__init__()\n",
    "        self.features = nn.Sequential(\n",
    "            nn.Conv2d(3, 16, kernel_size=3, stride=1, padding=1),\n",
    "            nn.ReLU(inplace=True),\n",
    "            nn.MaxPool2d(kernel_size=2, stride=2),\n",
    "            nn.Conv2d(16, 32, kernel_size=3, stride=1, padding=1),\n",
    "            nn.ReLU(inplace=True),\n",
    "            nn.MaxPool2d(kernel_size=2, stride=2),\n",
    "            # Add more layers as needed\n",
    "        )\n",
    "        # Print the shape of the flattened output before the linear layer\n",
    "        dummy_input = torch.randn(2, 3, 32, 32)\n",
    "        features_output = self.features(dummy_input)\n",
    "        flattened_size = features_output.view(features_output.size(0), -1).shape[1]\n",
    "        print(\"Flattened Size:\", flattened_size)\n",
    "\n",
    "        self.classifier = nn.Sequential(\n",
    "            nn.Linear(flattened_size, 2048),  # Adjust this line\n",
    "            nn.ReLU(inplace=True),\n",
    "            nn.Linear(2048, num_classes),\n",
    "        )\n",
    "\n",
    "    def forward(self, x):\n",
    "        x = self.features(x)\n",
    "        x = x.view(x.size(0), -1)\n",
    "        x = self.classifier(x)\n",
    "        return x\n",
    "\n",
    "# Check the size of the output after the convolutional layers\n",
    "mini_lane_model = MiniLaneDetectionModel()\n",
    "\n"
   ]
  },
  {
   "cell_type": "code",
   "execution_count": 9,
   "metadata": {},
   "outputs": [],
   "source": [
    "def calculate_mean_std(loader):\n",
    "    mean = 0.0\n",
    "    std = 0.0\n",
    "    total_samples = 0\n",
    "\n",
    "    for data, _ in loader:\n",
    "        batch_samples = data.size(0)\n",
    "        data = data.view(batch_samples, data.size(1), -1)\n",
    "        mean += data.mean(2).sum(0)\n",
    "        std += data.std(2).sum(0)\n",
    "        total_samples += batch_samples\n",
    "\n",
    "    mean /= total_samples\n",
    "    std /= total_samples\n",
    "\n",
    "    return mean.tolist(), std.tolist()"
   ]
  },
  {
   "cell_type": "code",
   "execution_count": 14,
   "metadata": {},
   "outputs": [],
   "source": [
    "num_epochs = 5\n",
    "# Split the dataset into train, validation, and test sets\n",
    "train_size = int(0.8 * len(dataset))\n",
    "val_size = int(0.1 * len(dataset))\n",
    "test_size = len(dataset) - train_size - val_size\n",
    "\n",
    "train_dataset, temp_dataset = torch.utils.data.random_split(dataset, [train_size, len(dataset) - train_size])\n",
    "val_dataset, test_dataset = torch.utils.data.random_split(temp_dataset, [val_size, test_size])\n",
    "\n",
    "# Create DataLoader\n",
    "train_loader = DataLoader(train_dataset, batch_size=8, shuffle=True)\n",
    "val_loader = DataLoader(val_dataset, batch_size=8, shuffle=False)\n",
    "test_loader = DataLoader(test_dataset, batch_size=8, shuffle=False)"
   ]
  },
  {
   "cell_type": "code",
   "execution_count": 15,
   "metadata": {},
   "outputs": [],
   "source": [
    "train_mean, train_std = calculate_mean_std(train_loader)\n",
    "# Define transforms for normalization and augmentation\n",
    "transform = transforms.Compose([\n",
    "    transforms.Resize((32, 32)),\n",
    "    transforms.RandomHorizontalFlip(),\n",
    "    transforms.ColorJitter(brightness=0.2, contrast=0.2, saturation=0.2, hue=0.2),\n",
    "    transforms.ToTensor(),\n",
    "    transforms.Normalize(mean=train_mean, std=train_std),\n",
    "])\n",
    "\n",
    "# Load dataset with the defined transforms\n",
    "dataset = CustomDataset(root_dir=\"/Downloads\", transform=transform)"
   ]
  },
  {
   "cell_type": "code",
   "execution_count": 16,
   "metadata": {},
   "outputs": [
    {
     "name": "stdout",
     "output_type": "stream",
     "text": [
      "Input Data Shape: torch.Size([2, 3, 32, 32])\n",
      "Convolutional Output Shape: torch.Size([2, 32, 8, 8])\n",
      "Flattened Output Shape: torch.Size([2, 2048])\n",
      "Epoch 1, Loss: 0.6477693319320679\n",
      "Input Data Shape: torch.Size([2, 3, 32, 32])\n",
      "Convolutional Output Shape: torch.Size([2, 32, 8, 8])\n",
      "Flattened Output Shape: torch.Size([2, 2048])\n",
      "Epoch 2, Loss: 0.629828155040741\n",
      "Input Data Shape: torch.Size([2, 3, 32, 32])\n",
      "Convolutional Output Shape: torch.Size([2, 32, 8, 8])\n",
      "Flattened Output Shape: torch.Size([2, 2048])\n",
      "Epoch 3, Loss: 0.6249784231185913\n",
      "Input Data Shape: torch.Size([2, 3, 32, 32])\n",
      "Convolutional Output Shape: torch.Size([2, 32, 8, 8])\n",
      "Flattened Output Shape: torch.Size([2, 2048])\n",
      "Epoch 4, Loss: 0.5843857526779175\n",
      "Input Data Shape: torch.Size([2, 3, 32, 32])\n",
      "Convolutional Output Shape: torch.Size([2, 32, 8, 8])\n",
      "Flattened Output Shape: torch.Size([2, 2048])\n",
      "Epoch 5, Loss: 0.539573073387146\n",
      "Input Data Shape: torch.Size([2, 3, 32, 32])\n",
      "Convolutional Output Shape: torch.Size([2, 32, 8, 8])\n",
      "Flattened Output Shape: torch.Size([2, 2048])\n",
      "Epoch 6, Loss: 0.5203258991241455\n",
      "Input Data Shape: torch.Size([2, 3, 32, 32])\n",
      "Convolutional Output Shape: torch.Size([2, 32, 8, 8])\n",
      "Flattened Output Shape: torch.Size([2, 2048])\n",
      "Epoch 7, Loss: 0.46612006425857544\n",
      "Input Data Shape: torch.Size([2, 3, 32, 32])\n",
      "Convolutional Output Shape: torch.Size([2, 32, 8, 8])\n",
      "Flattened Output Shape: torch.Size([2, 2048])\n",
      "Epoch 8, Loss: 0.41396573185920715\n",
      "Input Data Shape: torch.Size([2, 3, 32, 32])\n",
      "Convolutional Output Shape: torch.Size([2, 32, 8, 8])\n",
      "Flattened Output Shape: torch.Size([2, 2048])\n",
      "Epoch 9, Loss: 0.40396684408187866\n",
      "Input Data Shape: torch.Size([2, 3, 32, 32])\n",
      "Convolutional Output Shape: torch.Size([2, 32, 8, 8])\n",
      "Flattened Output Shape: torch.Size([2, 2048])\n",
      "Epoch 10, Loss: 0.3477143943309784\n",
      "Input Data Shape: torch.Size([2, 3, 32, 32])\n",
      "Convolutional Output Shape: torch.Size([2, 32, 8, 8])\n",
      "Flattened Output Shape: torch.Size([2, 2048])\n",
      "Epoch 11, Loss: 0.3068261742591858\n",
      "Input Data Shape: torch.Size([2, 3, 32, 32])\n",
      "Convolutional Output Shape: torch.Size([2, 32, 8, 8])\n",
      "Flattened Output Shape: torch.Size([2, 2048])\n",
      "Epoch 12, Loss: 0.3028492331504822\n",
      "Input Data Shape: torch.Size([2, 3, 32, 32])\n",
      "Convolutional Output Shape: torch.Size([2, 32, 8, 8])\n",
      "Flattened Output Shape: torch.Size([2, 2048])\n",
      "Epoch 13, Loss: 0.2459351122379303\n",
      "Input Data Shape: torch.Size([2, 3, 32, 32])\n",
      "Convolutional Output Shape: torch.Size([2, 32, 8, 8])\n",
      "Flattened Output Shape: torch.Size([2, 2048])\n",
      "Epoch 14, Loss: 0.22330164909362793\n",
      "Input Data Shape: torch.Size([2, 3, 32, 32])\n",
      "Convolutional Output Shape: torch.Size([2, 32, 8, 8])\n",
      "Flattened Output Shape: torch.Size([2, 2048])\n",
      "Epoch 15, Loss: 0.17741435766220093\n",
      "Input Data Shape: torch.Size([2, 3, 32, 32])\n",
      "Convolutional Output Shape: torch.Size([2, 32, 8, 8])\n",
      "Flattened Output Shape: torch.Size([2, 2048])\n",
      "Epoch 16, Loss: 0.18673458695411682\n",
      "Input Data Shape: torch.Size([2, 3, 32, 32])\n",
      "Convolutional Output Shape: torch.Size([2, 32, 8, 8])\n",
      "Flattened Output Shape: torch.Size([2, 2048])\n",
      "Epoch 17, Loss: 0.1283397376537323\n",
      "Input Data Shape: torch.Size([2, 3, 32, 32])\n",
      "Convolutional Output Shape: torch.Size([2, 32, 8, 8])\n",
      "Flattened Output Shape: torch.Size([2, 2048])\n",
      "Epoch 18, Loss: 0.11351335048675537\n",
      "Input Data Shape: torch.Size([2, 3, 32, 32])\n",
      "Convolutional Output Shape: torch.Size([2, 32, 8, 8])\n",
      "Flattened Output Shape: torch.Size([2, 2048])\n",
      "Epoch 19, Loss: 0.08776289224624634\n",
      "Input Data Shape: torch.Size([2, 3, 32, 32])\n",
      "Convolutional Output Shape: torch.Size([2, 32, 8, 8])\n",
      "Flattened Output Shape: torch.Size([2, 2048])\n",
      "Epoch 20, Loss: 0.08283960819244385\n"
     ]
    }
   ],
   "source": [
    "# (i) Overfitting with 100% accuracy (train on a small subset)\n",
    "num_classes = 2\n",
    "overfit_dataset = torch.utils.data.Subset(train_dataset, range(2))\n",
    "overfit_loader = DataLoader(overfit_dataset, batch_size=2, shuffle=True)\n",
    "\n",
    "# Train the mini model on the small subset for overfitting\n",
    "# Train the mini model on the small subset for overfitting\n",
    "mini_lane_model.train()\n",
    "criterion = nn.CrossEntropyLoss()\n",
    "optimizer = optim.SGD(mini_lane_model.parameters(), lr=0.001, momentum=0.9)\n",
    "\n",
    "for epoch in range(20):  # Train for a small number of epochs for overfitting\n",
    "    for batch_idx, (data, target) in enumerate(overfit_loader):\n",
    "        optimizer.zero_grad()\n",
    "\n",
    "        # Debugging: Print the shape of the input data\n",
    "        print(\"Input Data Shape:\", data.shape)\n",
    "\n",
    "        # Debugging: Print the shape of the output after the convolutional layers\n",
    "        conv_output = mini_lane_model.features(data)\n",
    "        print(\"Convolutional Output Shape:\", conv_output.shape)\n",
    "\n",
    "        # Debugging: Print the shape of the flattened output before the linear layer\n",
    "        flattened_output = conv_output.view(conv_output.size(0), -1)\n",
    "        print(\"Flattened Output Shape:\", flattened_output.shape)\n",
    "\n",
    "        # Ensure that target values are within the correct range (e.g., 0 and 1 for binary classification)\n",
    "        # Update the target tensor accordingly\n",
    "        target = target % num_classes  # Adjust this line based on your number of classes\n",
    "\n",
    "        output = mini_lane_model(data)\n",
    "        loss = criterion(output, target)\n",
    "        loss.backward()b\n",
    "        optimizer.step()\n",
    "    print(f\"Epoch {epoch+1}, Loss: {loss.item()}\")"
   ]
  },
  {
   "cell_type": "code",
   "execution_count": 17,
   "metadata": {},
   "outputs": [],
   "source": [
    "import torch\n",
    "import torch.nn as nn\n",
    "import torch.optim as optim\n",
    "from torch.utils.data import DataLoader"
   ]
  },
  {
   "cell_type": "markdown",
   "metadata": {},
   "source": [
    "This code performs a training loop for the given number of epochs, with each epoch iterating over batches in the training DataLoader (train_loader). After each epoch, the model is evaluated on the validation DataLoader (val_loader). The training and validation losses are stored for later plotting. The final step involves plotting the training and validation losses over epochs. Adjustments may be needed based on the specific architecture and requirements of your model."
   ]
  },
  {
   "cell_type": "code",
   "execution_count": 21,
   "metadata": {},
   "outputs": [
    {
     "name": "stdout",
     "output_type": "stream",
     "text": [
      "Flattened Size: 2048\n",
      "Epoch 1, Training Loss: 0.7199132442474365, Validation Loss: 0.6893423199653625\n",
      "Epoch 2, Training Loss: 0.7395115494728088, Validation Loss: 0.6985534429550171\n",
      "Epoch 3, Training Loss: 0.7114754319190979, Validation Loss: 0.6887160142262777\n",
      "Epoch 4, Training Loss: 0.7294949889183044, Validation Loss: 0.6936815977096558\n",
      "Epoch 5, Training Loss: 0.735637903213501, Validation Loss: 0.7024547457695007\n"
     ]
    },
    {
     "data": {
      "image/png": "[encoded data removed]",
      "text/plain": [
       "<Figure size 640x480 with 1 Axes>"
      ]
     },
     "metadata": {},
     "output_type": "display_data"
    }
   ],
   "source": [
    "# Training loop\n",
    "train_losses = []\n",
    "validation_losses = []\n",
    "model=MiniLaneDetectionModel()\n",
    "for epoch in range(num_epochs):\n",
    "    model.train()\n",
    "    for batch_idx, (data, target) in enumerate(train_loader):\n",
    "        optimizer.zero_grad()\n",
    "\n",
    "        # Ensure that target values are within the correct range (e.g., 0 and 1 for binary classification)\n",
    "        target = target % num_classes  # Adjust this line based on your number of classes\n",
    "\n",
    "        output = model(data)\n",
    "        loss = criterion(output, target)\n",
    "        loss.backward()\n",
    "        optimizer.step()\n",
    "\n",
    "    # Validation\n",
    "    model.eval()\n",
    "    with torch.no_grad():\n",
    "        validation_loss = 0.0\n",
    "        for data, target in val_loader:\n",
    "            # Ensure that target values are within the correct range for validation\n",
    "            target = target % num_classes  # Adjust this line based on your number of classes\n",
    "\n",
    "            output = model(data)\n",
    "            loss = criterion(output, target)\n",
    "            validation_loss += loss.item()\n",
    "\n",
    "        train_losses.append(loss.item())\n",
    "        validation_losses.append(validation_loss / len(val_loader))\n",
    "\n",
    "        print(f\"Epoch {epoch + 1}, Training Loss: {loss.item()}, Validation Loss: {validation_loss / len(val_loader)}\")\n",
    "\n",
    "# Plotting\n",
    "plt.plot(train_losses, label='Training Loss')\n",
    "plt.plot(validation_losses, label='Validation Loss')\n",
    "plt.xlabel('Epoch')\n",
    "plt.ylabel('Loss')\n",
    "plt.legend()\n",
    "plt.show()"
   ]
  },
  {
   "cell_type": "markdown",
   "metadata": {},
   "source": [
    "This code evaluates the model on the test set, calculating the total loss and accuracy. Make sure to adjust the target range transformation based on your specific number of classes. The results are then printed or logged for analysis."
   ]
  },
  {
   "cell_type": "code",
   "execution_count": 22,
   "metadata": {},
   "outputs": [
    {
     "name": "stdout",
     "output_type": "stream",
     "text": [
      "Performance on Test Set - Accuracy: 0.6842\n",
      "Total Loss on Test Set: 2.0240\n"
     ]
    }
   ],
   "source": [
    "device = torch.device(\"cuda\" if torch.cuda.is_available() else \"cpu\")\n",
    "\n",
    "# Move the model to the device\n",
    "model.to(device)\n",
    "# Test the model on the test set\n",
    "model.eval()\n",
    "\n",
    "# Variables to store predictions and ground truth\n",
    "all_predictions = []\n",
    "all_targets = []\n",
    "\n",
    "# Variable to store total loss for the entire test set\n",
    "total_loss = 0.0\n",
    "\n",
    "with torch.no_grad():\n",
    "    for data, target in test_loader:\n",
    "        # Ensure that target values are within the correct range for testing\n",
    "        target = target % num_classes  # Adjust this line based on your number of classes\n",
    "\n",
    "        # Move data and target to the device\n",
    "        data, target = data.to(device), target.to(device)\n",
    "\n",
    "        # Forward pass\n",
    "        output = model(data)\n",
    "\n",
    "        # Calculate the loss\n",
    "        loss = criterion(output, target)\n",
    "\n",
    "        # Accumulate total loss\n",
    "        total_loss += loss.item()\n",
    "\n",
    "        # Store predictions and targets\n",
    "        all_predictions.append(output.argmax(dim=1))  # Assuming a classification model\n",
    "        all_targets.append(target)\n",
    "\n",
    "# Concatenate predictions and targets along the batch dimension\n",
    "all_predictions = torch.cat(all_predictions, dim=0)\n",
    "all_targets = torch.cat(all_targets, dim=0)\n",
    "\n",
    "# Calculate performance metrics (e.g., accuracy)\n",
    "correct_predictions = (all_predictions == all_targets).sum().item()\n",
    "total_samples = all_targets.numel()\n",
    "accuracy = correct_predictions / total_samples\n",
    "\n",
    "# Print or log the results\n",
    "print(f\"Performance on Test Set - Accuracy: {accuracy:.4f}\")\n",
    "print(f\"Total Loss on Test Set: {total_loss:.4f}\")\n"
   ]
  },
  {
   "cell_type": "code",
   "execution_count": 25,
   "metadata": {},
   "outputs": [
    {
     "name": "stdout",
     "output_type": "stream",
     "text": [
      "Model saved at: lane_detection_model.pth\n"
     ]
    }
   ],
   "source": [
    "save_path = \"lane_detection_model.pth\"  # You can customize the path and filename\n",
    "torch.save(model.state_dict(), save_path)\n",
    "\n",
    "print(f\"Model saved at: {save_path}\")"
   ]
  },
  {
   "cell_type": "markdown",
   "metadata": {},
   "source": [
    "This code defines a Gradio interface where users can input an image, and the model will segment the lanes and provide the result as an output image. Users can interact with this interface to see real-time results."
   ]
  },
  {
   "cell_type": "code",
   "execution_count": 26,
   "metadata": {
    "colab": {
     "base_uri": "https://localhost:8080/",
     "height": 1000
    },
    "id": "ZAkTXfeANgkM",
    "outputId": "0ff902e0-adbe-4827-b29e-56c5f8ca2392",
    "scrolled": true
   },
   "outputs": [
    {
     "name": "stdout",
     "output_type": "stream",
     "text": [
      "Flattened Size: 2048\n",
      "Running on local URL:  http://127.0.0.1:7872\n",
      "\n",
      "To create a public link, set `share=True` in `launch()`.\n"
     ]
    },
    {
     "data": {
      "text/html": [
       "<div><iframe src=\"http://127.0.0.1:7872/\" width=\"100%\" height=\"500\" allow=\"autoplay; camera; microphone; clipboard-read; clipboard-write;\" frameborder=\"0\" allowfullscreen></iframe></div>"
      ],
      "text/plain": [
       "<IPython.core.display.HTML object>"
      ]
     },
     "metadata": {},
     "output_type": "display_data"
    },
    {
     "data": {
      "text/plain": []
     },
     "execution_count": 26,
     "metadata": {},
     "output_type": "execute_result"
    }
   ],
   "source": [
    "import torch\n",
    "import gradio as gr\n",
    "from torchvision import transforms\n",
    "from PIL import Image\n",
    "import numpy as np\n",
    "\n",
    "# Define the path to your saved model checkpoint\n",
    "checkpoint_path = 'lane_detection_model.pth'\n",
    "\n",
    "# Load the saved model\n",
    "model = MiniLaneDetectionModel()\n",
    "model.load_state_dict(torch.load(checkpoint_path))\n",
    "model.eval()\n",
    "\n",
    "# Define the transform for preprocessing the input image\n",
    "transform = transforms.Compose([\n",
    "    transforms.Resize((32, 32)),\n",
    "    transforms.ToTensor(),\n",
    "])\n",
    "\n",
    "# Define the Gradio function for segmentation\n",
    "import torch\n",
    "import gradio as gr\n",
    "from torchvision import transforms\n",
    "from PIL import Image\n",
    "import numpy as np\n",
    "\n",
    "# ... (same as before)\n",
    "\n",
    "# Define the Gradio function for segmentation\n",
    "def segment_lanes(image):\n",
    "    # Apply the transform to the input image\n",
    "    input_image = Image.fromarray(image.astype('uint8'), 'RGB')\n",
    "    input_tensor = transform(input_image)\n",
    "    input_batch = input_tensor.unsqueeze(0)  # Add a batch dimension\n",
    "\n",
    "    # Forward pass to obtain the segmentation mask\n",
    "    with torch.no_grad():\n",
    "        segmentation_mask = model(input_batch)\n",
    "\n",
    "    # Assuming your model produces a tensor representing the segmentation mask,\n",
    "    # you may want to apply a threshold to convert it into a binary mask (lane or not lane)\n",
    "    threshold = 0.5  # Adjust this threshold as needed\n",
    "    binary_mask = (segmentation_mask > threshold).float()\n",
    "\n",
    "    # Convert PyTorch tensor to NumPy array for compatibility\n",
    "    binary_mask_np = binary_mask.squeeze().cpu().numpy()\n",
    "\n",
    "    # Ensure that binary_mask_np is 2D (not 3D)\n",
    "    binary_mask_np = binary_mask_np[0] if len(binary_mask_np.shape) == 3 else binary_mask_np\n",
    "\n",
    "    # Resize the binary_mask_np to match the shape of the input image\n",
    "    binary_mask_np = np.resize(binary_mask_np, image.shape[:2])\n",
    "\n",
    "    # Create a colored overlay using the original image and the binary mask\n",
    "    segmented_image = np.zeros_like(image, dtype=np.uint8)\n",
    "    segmented_image[:, :, 0] = (image[:, :, 0] * (1 - binary_mask_np)).astype(np.uint8)  # Red channel\n",
    "    segmented_image[:, :, 1] = (image[:, :, 1] * (1 - binary_mask_np)).astype(np.uint8)  # Green channel\n",
    "    segmented_image[:, :, 2] = (image[:, :, 2] + 255 * binary_mask_np).astype(np.uint8)  # Blue channel\n",
    "\n",
    "    return segmented_image\n",
    "\n",
    "# Create the Gradio interface\n",
    "iface = gr.Interface(fn=segment_lanes, inputs=\"image\", outputs=\"image\")\n",
    "\n",
    "# Launch the Gradio interface\n",
    "iface.launch()"
   ]
  },
  {
   "cell_type": "code",
   "execution_count": null,
   "metadata": {},
   "outputs": [],
   "source": []
  }
 ],
 "metadata": {
  "colab": {
   "provenance": [],
   "toc_visible": true
  },
  "kernelspec": {
   "display_name": "Python 3 (ipykernel)",
   "language": "python",
   "name": "python3"
  },
  "language_info": {
   "codemirror_mode": {
    "name": "ipython",
    "version": 3
   },
   "file_extension": ".py",
   "mimetype": "text/x-python",
   "name": "python",
   "nbconvert_exporter": "python",
   "pygments_lexer": "ipython3",
   "version": "3.11.4"
  }
 },
 "nbformat": 4,
 "nbformat_minor": 1
}
